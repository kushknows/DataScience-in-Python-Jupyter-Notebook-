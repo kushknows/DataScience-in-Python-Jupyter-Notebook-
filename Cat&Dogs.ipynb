{
 "cells": [
  {
   "cell_type": "markdown",
   "metadata": {},
   "source": [
    "# feature extraction"
   ]
  },
  {
   "cell_type": "code",
   "execution_count": 1,
   "metadata": {
    "collapsed": true
   },
   "outputs": [],
   "source": [
    "import cv2\n",
    "import os # for accessing directory\n",
    "from tqdm import tqdm"
   ]
  },
  {
   "cell_type": "code",
   "execution_count": 2,
   "metadata": {
    "collapsed": true
   },
   "outputs": [],
   "source": [
    "train='C:/Users/KUSH/Documents/train'\n",
    "pred='C:/Users/KUSH/Documents/test1'"
   ]
  },
  {
   "cell_type": "code",
   "execution_count": 3,
   "metadata": {},
   "outputs": [
    {
     "data": {
      "text/plain": [
       "'cat'"
      ]
     },
     "execution_count": 3,
     "metadata": {},
     "output_type": "execute_result"
    }
   ],
   "source": [
    "n='cat.1.jpg'\n",
    "n.split('.')[0]\n"
   ]
  },
  {
   "cell_type": "code",
   "execution_count": 4,
   "metadata": {
    "collapsed": true
   },
   "outputs": [],
   "source": [
    "def label_img(img):\n",
    "    label=img.split('.')\n",
    "    if label[0]=='cat':\n",
    "       return 0\n",
    "    elif label[0]=='dog':\n",
    "       return 1\n"
   ]
  },
  {
   "cell_type": "code",
   "execution_count": 6,
   "metadata": {},
   "outputs": [
    {
     "name": "stderr",
     "output_type": "stream",
     "text": [
      "100%|███████████████████████████████████████████████████████████████████████████| 25000/25000 [02:20<00:00, 178.31it/s]\n"
     ]
    }
   ],
   "source": [
    "from random import shuffle\n",
    "train_data=[]\n",
    "def feature_data():\n",
    "    for i in tqdm(os.listdir(train)):\n",
    "        label=label_img(i)\n",
    "        path=os.path.join(train,i)\n",
    "        feature=cv2.imread(path,0) #for feature extraction nad  0 = grey rgb\n",
    "        feature=cv2.resize(feature, (50,50))\n",
    "        train_data.append([feature,label])\n",
    "    shuffle(train_data)\n",
    "    return train_data\n",
    "trainig=feature_data()\n"
   ]
  },
  {
   "cell_type": "code",
   "execution_count": 7,
   "metadata": {},
   "outputs": [
    {
     "data": {
      "text/plain": [
       "[array([[205,  34,  37, ...,   5,   6,   4],\n",
       "        [ 43, 160,  47, ...,   7,   6,   5],\n",
       "        [ 42,  27, 144, ...,   5,   5,  36],\n",
       "        ...,\n",
       "        [223, 174, 235, ..., 127, 126, 222],\n",
       "        [226, 181, 234, ...,  59, 117, 130],\n",
       "        [239, 198, 233, ..., 134, 145, 132]], dtype=uint8), 1]"
      ]
     },
     "execution_count": 7,
     "metadata": {},
     "output_type": "execute_result"
    }
   ],
   "source": [
    "trainig[0]"
   ]
  },
  {
   "cell_type": "code",
   "execution_count": 8,
   "metadata": {},
   "outputs": [
    {
     "name": "stderr",
     "output_type": "stream",
     "text": [
      "100%|███████████████████████████████████████████████████████████████████████████| 12500/12500 [00:57<00:00, 215.70it/s]\n"
     ]
    }
   ],
   "source": [
    "from random import shuffle\n",
    "test_data=[]\n",
    "def feature_d():\n",
    "    for i in tqdm(os.listdir(pred)):\n",
    "      #  label=label_img(i)\n",
    "        path=os.path.join(pred,i)\n",
    "        feature1=cv2.imread(path,0) #for feature extraction nad  0 = grey rgb\n",
    "        feature1=cv2.resize(feature1, (50,50))\n",
    "        test_data.append([feature1])\n",
    "    shuffle(test_data)\n",
    "    return test_data\n",
    "testing=feature_d()"
   ]
  },
  {
   "cell_type": "code",
   "execution_count": 35,
   "metadata": {},
   "outputs": [
    {
     "data": {
      "text/plain": [
       "12500"
      ]
     },
     "execution_count": 35,
     "metadata": {},
     "output_type": "execute_result"
    }
   ],
   "source": [
    "#len(os.listdir(pred))\n",
    "len(testing)"
   ]
  },
  {
   "cell_type": "code",
   "execution_count": 36,
   "metadata": {
    "collapsed": true
   },
   "outputs": [],
   "source": [
    "import numpy as nm\n",
    "training =nm.array(trainig).reshape(25000,2)"
   ]
  },
  {
   "cell_type": "code",
   "execution_count": 11,
   "metadata": {},
   "outputs": [
    {
     "data": {
      "text/plain": [
       "1"
      ]
     },
     "execution_count": 11,
     "metadata": {},
     "output_type": "execute_result"
    }
   ],
   "source": [
    "n=nm.zeros([25000,2501])\n",
    "n\n",
    "training[0][1]"
   ]
  },
  {
   "cell_type": "markdown",
   "metadata": {},
   "source": [
    "[[list[0]],[list[1]]]\n",
    "we will make single list "
   ]
  },
  {
   "cell_type": "code",
   "execution_count": 12,
   "metadata": {
    "collapsed": true
   },
   "outputs": [],
   "source": [
    "for i in range(25000):\n",
    "    n[i]=nm.hstack((training[i][0].ravel(),training[i][1]))"
   ]
  },
  {
   "cell_type": "code",
   "execution_count": 13,
   "metadata": {},
   "outputs": [
    {
     "data": {
      "text/plain": [
       "array([[205.,  34.,  37., ..., 145., 132.,   1.],\n",
       "       [104., 155., 126., ..., 109., 108.,   1.],\n",
       "       [ 75.,  84.,  92., ...,  53., 216.,   0.],\n",
       "       ...,\n",
       "       [106., 101.,  99., ..., 110., 116.,   1.],\n",
       "       [ 47.,  48.,  39., ..., 178., 176.,   0.],\n",
       "       [ 74.,  67.,  75., ..., 158., 157.,   0.]])"
      ]
     },
     "execution_count": 13,
     "metadata": {},
     "output_type": "execute_result"
    }
   ],
   "source": [
    "n"
   ]
  },
  {
   "cell_type": "code",
   "execution_count": 14,
   "metadata": {
    "collapsed": true
   },
   "outputs": [],
   "source": [
    "X=n[:,:-1] #:2501\n",
    "Y=n[:,-1:]"
   ]
  },
  {
   "cell_type": "code",
   "execution_count": 58,
   "metadata": {},
   "outputs": [
    {
     "data": {
      "text/plain": [
       "(25000, 2500)"
      ]
     },
     "execution_count": 58,
     "metadata": {},
     "output_type": "execute_result"
    }
   ],
   "source": [
    "nm.shape(X)"
   ]
  },
  {
   "cell_type": "code",
   "execution_count": 16,
   "metadata": {
    "collapsed": true
   },
   "outputs": [],
   "source": [
    "import tensorflow as tf"
   ]
  },
  {
   "cell_type": "code",
   "execution_count": 17,
   "metadata": {
    "collapsed": true
   },
   "outputs": [],
   "source": [
    "model=tf.keras.models.Sequential()\n",
    "model.add(tf.keras.layers.Flatten()) # Add input layer\n",
    "model.add(tf.keras.layers.Dense(256,activation=tf.nn.relu)) # Add 1st hidden layer ,tf.nn.relu returns only +ve values \n",
    "model.add(tf.keras.layers.Dense(128,activation=tf.nn.relu)) # Add 2nd hidden layer\n",
    "model.add(tf.keras.layers.Dense(10, activation=tf.nn.softmax)) # Add output layer"
   ]
  },
  {
   "cell_type": "code",
   "execution_count": 18,
   "metadata": {
    "collapsed": true
   },
   "outputs": [],
   "source": [
    "model.compile(optimizer='adam',\n",
    "             loss='sparse_categorical_crossentropy',\n",
    "             metrics=['accuracy']) #adam is responsible for backward forward propogation by using gradient algo with help of error (1-prob)"
   ]
  },
  {
   "cell_type": "code",
   "execution_count": 19,
   "metadata": {},
   "outputs": [
    {
     "name": "stdout",
     "output_type": "stream",
     "text": [
      "Epoch 1/5\n"
     ]
    },
    {
     "name": "stdout",
     "output_type": "stream",
     "text": [
      "17248/25000 [===================>..........] - ETA: 16:06 - loss: 10.2465 - acc: 0.281 - ETA: 5:35 - loss: 8.7882 - acc: 0.4271  - ETA: 3:29 - loss: 8.5973 - acc: 0.450 - ETA: 2:35 - loss: 8.6594 - acc: 0.450 - ETA: 1:53 - loss: 8.6807 - acc: 0.453 - ETA: 1:30 - loss: 8.3823 - acc: 0.473 - ETA: 1:16 - loss: 8.3217 - acc: 0.478 - ETA: 1:06 - loss: 8.2272 - acc: 0.485 - ETA: 59s - loss: 8.2501 - acc: 0.484 - ETA: 54s - loss: 8.2473 - acc: 0.48 - ETA: 50s - loss: 8.1732 - acc: 0.49 - ETA: 46s - loss: 8.2433 - acc: 0.48 - ETA: 43s - loss: 8.1382 - acc: 0.49 - ETA: 41s - loss: 8.1182 - acc: 0.49 - ETA: 40s - loss: 8.0893 - acc: 0.49 - ETA: 39s - loss: 8.0387 - acc: 0.49 - ETA: 37s - loss: 8.0401 - acc: 0.49 - ETA: 36s - loss: 8.1395 - acc: 0.49 - ETA: 35s - loss: 8.1140 - acc: 0.49 - ETA: 34s - loss: 8.1118 - acc: 0.49 - ETA: 33s - loss: 8.0813 - acc: 0.49 - ETA: 33s - loss: 8.0988 - acc: 0.49 - ETA: 32s - loss: 8.0798 - acc: 0.49 - ETA: 32s - loss: 8.0364 - acc: 0.50 - ETA: 31s - loss: 8.0619 - acc: 0.49 - ETA: 31s - loss: 8.1011 - acc: 0.49 - ETA: 30s - loss: 8.0617 - acc: 0.49 - ETA: 30s - loss: 8.0394 - acc: 0.50 - ETA: 29s - loss: 7.9693 - acc: 0.50 - ETA: 29s - loss: 7.9786 - acc: 0.50 - ETA: 28s - loss: 7.9808 - acc: 0.50 - ETA: 28s - loss: 8.0220 - acc: 0.50 - ETA: 28s - loss: 8.0294 - acc: 0.50 - ETA: 27s - loss: 8.0425 - acc: 0.50 - ETA: 27s - loss: 8.0551 - acc: 0.49 - ETA: 27s - loss: 8.0255 - acc: 0.50 - ETA: 27s - loss: 7.9973 - acc: 0.50 - ETA: 26s - loss: 7.9874 - acc: 0.50 - ETA: 26s - loss: 7.9724 - acc: 0.50 - ETA: 26s - loss: 7.9526 - acc: 0.50 - ETA: 25s - loss: 7.9507 - acc: 0.50 - ETA: 25s - loss: 7.9632 - acc: 0.50 - ETA: 25s - loss: 7.9760 - acc: 0.50 - ETA: 24s - loss: 7.9493 - acc: 0.50 - ETA: 24s - loss: 7.9229 - acc: 0.50 - ETA: 24s - loss: 7.9207 - acc: 0.50 - ETA: 24s - loss: 7.9154 - acc: 0.50 - ETA: 23s - loss: 7.8971 - acc: 0.50 - ETA: 23s - loss: 7.9172 - acc: 0.50 - ETA: 23s - loss: 7.9026 - acc: 0.50 - ETA: 23s - loss: 7.8884 - acc: 0.50 - ETA: 23s - loss: 7.9212 - acc: 0.50 - ETA: 22s - loss: 7.9113 - acc: 0.50 - ETA: 22s - loss: 7.9375 - acc: 0.50 - ETA: 22s - loss: 7.9472 - acc: 0.50 - ETA: 22s - loss: 7.9335 - acc: 0.50 - ETA: 22s - loss: 7.9126 - acc: 0.50 - ETA: 22s - loss: 7.9111 - acc: 0.50 - ETA: 21s - loss: 7.9059 - acc: 0.50 - ETA: 21s - loss: 7.9117 - acc: 0.50 - ETA: 21s - loss: 7.9148 - acc: 0.50 - ETA: 21s - loss: 7.9168 - acc: 0.50 - ETA: 21s - loss: 7.9257 - acc: 0.50 - ETA: 21s - loss: 7.9453 - acc: 0.50 - ETA: 20s - loss: 7.9376 - acc: 0.50 - ETA: 20s - loss: 7.9293 - acc: 0.50 - ETA: 20s - loss: 7.9062 - acc: 0.50 - ETA: 20s - loss: 7.9562 - acc: 0.50 - ETA: 20s - loss: 7.9295 - acc: 0.50 - ETA: 20s - loss: 7.9526 - acc: 0.50 - ETA: 19s - loss: 7.9425 - acc: 0.50 - ETA: 19s - loss: 7.9438 - acc: 0.50 - ETA: 19s - loss: 7.9334 - acc: 0.50 - ETA: 19s - loss: 7.9465 - acc: 0.50 - ETA: 19s - loss: 7.9622 - acc: 0.50 - ETA: 19s - loss: 7.9695 - acc: 0.50 - ETA: 19s - loss: 7.9710 - acc: 0.50 - ETA: 19s - loss: 7.9774 - acc: 0.50 - ETA: 18s - loss: 7.9837 - acc: 0.50 - ETA: 18s - loss: 7.9819 - acc: 0.50 - ETA: 18s - loss: 7.9933 - acc: 0.50 - ETA: 18s - loss: 8.0019 - acc: 0.50 - ETA: 18s - loss: 7.9843 - acc: 0.50 - ETA: 18s - loss: 7.9876 - acc: 0.50 - ETA: 18s - loss: 7.9883 - acc: 0.50 - ETA: 18s - loss: 7.9995 - acc: 0.50 - ETA: 18s - loss: 7.9976 - acc: 0.50 - ETA: 18s - loss: 7.9911 - acc: 0.50 - ETA: 17s - loss: 7.9848 - acc: 0.50 - ETA: 17s - loss: 7.9903 - acc: 0.50 - ETA: 17s - loss: 7.9815 - acc: 0.50 - ETA: 17s - loss: 7.9987 - acc: 0.50 - ETA: 17s - loss: 7.9992 - acc: 0.50 - ETA: 17s - loss: 8.0044 - acc: 0.50 - ETA: 17s - loss: 7.9980 - acc: 0.50 - ETA: 17s - loss: 8.0011 - acc: 0.50 - ETA: 17s - loss: 8.0106 - acc: 0.50 - ETA: 17s - loss: 8.0132 - acc: 0.50 - ETA: 16s - loss: 7.9963 - acc: 0.50 - ETA: 16s - loss: 7.9993 - acc: 0.50 - ETA: 16s - loss: 8.0126 - acc: 0.50 - ETA: 16s - loss: 8.0005 - acc: 0.50 - ETA: 16s - loss: 7.9947 - acc: 0.50 - ETA: 16s - loss: 7.9872 - acc: 0.50 - ETA: 16s - loss: 7.9799 - acc: 0.50 - ETA: 16s - loss: 7.9805 - acc: 0.50 - ETA: 15s - loss: 7.9875 - acc: 0.50 - ETA: 15s - loss: 7.9983 - acc: 0.50 - ETA: 15s - loss: 8.0086 - acc: 0.50 - ETA: 15s - loss: 8.0014 - acc: 0.50 - ETA: 15s - loss: 7.9943 - acc: 0.50 - ETA: 15s - loss: 7.9799 - acc: 0.50 - ETA: 15s - loss: 7.9864 - acc: 0.50 - ETA: 15s - loss: 7.9720 - acc: 0.50 - ETA: 14s - loss: 7.9711 - acc: 0.50 - ETA: 14s - loss: 7.9736 - acc: 0.50 - ETA: 14s - loss: 7.9633 - acc: 0.50 - ETA: 14s - loss: 7.9679 - acc: 0.50 - ETA: 14s - loss: 7.9614 - acc: 0.50 - ETA: 14s - loss: 7.9554 - acc: 0.50 - ETA: 14s - loss: 7.9526 - acc: 0.50 - ETA: 14s - loss: 7.9516 - acc: 0.50 - ETA: 14s - loss: 7.9510 - acc: 0.50 - ETA: 14s - loss: 7.9538 - acc: 0.50 - ETA: 14s - loss: 7.9647 - acc: 0.50 - ETA: 13s - loss: 7.9774 - acc: 0.50 - ETA: 13s - loss: 7.9798 - acc: 0.50 - ETA: 13s - loss: 7.9886 - acc: 0.50 - ETA: 13s - loss: 7.9891 - acc: 0.50 - ETA: 13s - loss: 7.9849 - acc: 0.50 - ETA: 13s - loss: 7.9985 - acc: 0.50 - ETA: 13s - loss: 7.9956 - acc: 0.50 - ETA: 13s - loss: 7.9962 - acc: 0.50 - ETA: 13s - loss: 8.0076 - acc: 0.50 - ETA: 13s - loss: 8.0066 - acc: 0.50 - ETA: 13s - loss: 8.0053 - acc: 0.50 - ETA: 12s - loss: 8.0120 - acc: 0.50 - ETA: 12s - loss: 8.0154 - acc: 0.50 - ETA: 12s - loss: 8.0173 - acc: 0.50 - ETA: 12s - loss: 8.0147 - acc: 0.50 - ETA: 12s - loss: 8.0151 - acc: 0.50 - ETA: 12s - loss: 8.0111 - acc: 0.50 - ETA: 12s - loss: 8.0130 - acc: 0.50 - ETA: 12s - loss: 8.0134 - acc: 0.50 - ETA: 12s - loss: 8.0209 - acc: 0.50 - ETA: 12s - loss: 8.0183 - acc: 0.50 - ETA: 11s - loss: 8.0200 - acc: 0.50 - ETA: 11s - loss: 8.0120 - acc: 0.50 - ETA: 11s - loss: 8.0151 - acc: 0.50 - ETA: 11s - loss: 8.0058 - acc: 0.50 - ETA: 11s - loss: 8.0076 - acc: 0.50 - ETA: 11s - loss: 7.9998 - acc: 0.50 - ETA: 11s - loss: 8.0041 - acc: 0.50 - ETA: 11s - loss: 8.0006 - acc: 0.50 - ETA: 11s - loss: 7.9997 - acc: 0.50 - ETA: 11s - loss: 7.9962 - acc: 0.50 - ETA: 10s - loss: 7.9978 - acc: 0.50 - ETA: 10s - loss: 8.0048 - acc: 0.50 - ETA: 10s - loss: 8.0040 - acc: 0.50 - ETA: 10s - loss: 8.0132 - acc: 0.50 - ETA: 10s - loss: 8.0225 - acc: 0.50 - ETA: 10s - loss: 8.0203 - acc: 0.50 - ETA: 10s - loss: 8.0193 - acc: 0.50 - ETA: 10s - loss: 8.0121 - acc: 0.50 - ETA: 10s - loss: 8.0100 - acc: 0.50 - ETA: 10s - loss: 8.0165 - acc: 0.50 - ETA: 10s - loss: 8.0265 - acc: 0.50 - ETA: 9s - loss: 8.0365 - acc: 0.5012 - ETA: 9s - loss: 8.0318 - acc: 0.501 - ETA: 9s - loss: 8.0284 - acc: 0.501 - ETA: 9s - loss: 8.0262 - acc: 0.501 - ETA: 9s - loss: 8.0275 - acc: 0.501 - ETA: 9s - loss: 8.0241 - acc: 0.502 - ETA: 9s - loss: 8.0267 - acc: 0.501 - ETA: 9s - loss: 8.0269 - acc: 0.501 - ETA: 9s - loss: 8.0294 - acc: 0.501 - ETA: 9s - loss: 8.0330 - acc: 0.501 - ETA: 9s - loss: 8.0275 - acc: 0.501 - ETA: 9s - loss: 8.0287 - acc: 0.501 - ETA: 9s - loss: 8.0323 - acc: 0.501 - ETA: 8s - loss: 8.0381 - acc: 0.501 - ETA: 8s - loss: 8.0438 - acc: 0.500 - ETA: 8s - loss: 8.0439 - acc: 0.500 - ETA: 8s - loss: 8.0495 - acc: 0.500 - ETA: 8s - loss: 8.0539 - acc: 0.500 - ETA: 8s - loss: 8.0518 - acc: 0.500 - ETA: 8s - loss: 8.0529 - acc: 0.500 - ETA: 8s - loss: 8.0540 - acc: 0.500 - ETA: 8s - loss: 8.0487 - acc: 0.500 - ETA: 8s - loss: 8.0444 - acc: 0.500 - ETA: 8s - loss: 8.0360 - acc: 0.501 - ETA: 8s - loss: 8.0330 - acc: 0.501 - ETA: 8s - loss: 8.0300 - acc: 0.501 - ETA: 7s - loss: 8.0249 - acc: 0.501 - ETA: 7s - loss: 8.0210 - acc: 0.502 - ETA: 7s - loss: 8.0243 - acc: 0.502 - ETA: 7s - loss: 8.0255 - acc: 0.501 - ETA: 7s - loss: 8.0359 - acc: 0.501 - ETA: 7s - loss: 8.0412 - acc: 0.500 - ETA: 7s - loss: 8.0382 - acc: 0.501 - ETA: 7s - loss: 8.0443 - acc: 0.500 - ETA: 7s - loss: 8.0454 - acc: 0.500 - ETA: 7s - loss: 8.0475 - acc: 0.500 - ETA: 7s - loss: 8.0485 - acc: 0.500 - ETA: 7s - loss: 8.0506 - acc: 0.500 - ETA: 6s - loss: 8.0477 - acc: 0.500 - ETA: 6s - loss: 8.0478 - acc: 0.500 - ETA: 6s - loss: 8.0449 - acc: 0.500 - ETA: 6s - loss: 8.0431 - acc: 0.500 - ETA: 6s - loss: 8.0479 - acc: 0.500 - ETA: 6s - loss: 8.0480 - acc: 0.500 - ETA: 6s - loss: 8.0528 - acc: 0.500 - ETA: 6s - loss: 8.0594 - acc: 0.499 - ETA: 6s - loss: 8.0696 - acc: 0.49925000/25000 [==============================] - ETA: 6s - loss: 8.0687 - acc: 0.499 - ETA: 6s - loss: 8.0658 - acc: 0.499 - ETA: 6s - loss: 8.0631 - acc: 0.499 - ETA: 6s - loss: 8.0658 - acc: 0.499 - ETA: 6s - loss: 8.0694 - acc: 0.499 - ETA: 5s - loss: 8.0685 - acc: 0.499 - ETA: 5s - loss: 8.0648 - acc: 0.499 - ETA: 5s - loss: 8.0657 - acc: 0.499 - ETA: 5s - loss: 8.0647 - acc: 0.499 - ETA: 5s - loss: 8.0620 - acc: 0.499 - ETA: 5s - loss: 8.0611 - acc: 0.499 - ETA: 5s - loss: 8.0664 - acc: 0.499 - ETA: 5s - loss: 8.0620 - acc: 0.499 - ETA: 5s - loss: 8.0593 - acc: 0.499 - ETA: 5s - loss: 8.0611 - acc: 0.499 - ETA: 5s - loss: 8.0550 - acc: 0.500 - ETA: 5s - loss: 8.0524 - acc: 0.500 - ETA: 5s - loss: 8.0499 - acc: 0.500 - ETA: 5s - loss: 8.0482 - acc: 0.500 - ETA: 4s - loss: 8.0491 - acc: 0.500 - ETA: 4s - loss: 8.0432 - acc: 0.500 - ETA: 4s - loss: 8.0509 - acc: 0.500 - ETA: 4s - loss: 8.0577 - acc: 0.499 - ETA: 4s - loss: 8.0568 - acc: 0.500 - ETA: 4s - loss: 8.0568 - acc: 0.500 - ETA: 4s - loss: 8.0510 - acc: 0.500 - ETA: 4s - loss: 8.0511 - acc: 0.500 - ETA: 4s - loss: 8.0495 - acc: 0.500 - ETA: 4s - loss: 8.0577 - acc: 0.499 - ETA: 4s - loss: 8.0577 - acc: 0.499 - ETA: 4s - loss: 8.0601 - acc: 0.499 - ETA: 4s - loss: 8.0609 - acc: 0.499 - ETA: 4s - loss: 8.0625 - acc: 0.499 - ETA: 3s - loss: 8.0673 - acc: 0.499 - ETA: 3s - loss: 8.0697 - acc: 0.499 - ETA: 3s - loss: 8.0681 - acc: 0.499 - ETA: 3s - loss: 8.0696 - acc: 0.499 - ETA: 3s - loss: 8.0735 - acc: 0.499 - ETA: 3s - loss: 8.0782 - acc: 0.498 - ETA: 3s - loss: 8.0742 - acc: 0.498 - ETA: 3s - loss: 8.0695 - acc: 0.499 - ETA: 3s - loss: 8.0632 - acc: 0.499 - ETA: 3s - loss: 8.0709 - acc: 0.499 - ETA: 3s - loss: 8.0709 - acc: 0.499 - ETA: 3s - loss: 8.0770 - acc: 0.498 - ETA: 3s - loss: 8.0754 - acc: 0.498 - ETA: 3s - loss: 8.0753 - acc: 0.498 - ETA: 3s - loss: 8.0722 - acc: 0.499 - ETA: 2s - loss: 8.0722 - acc: 0.499 - ETA: 2s - loss: 8.0721 - acc: 0.499 - ETA: 2s - loss: 8.0691 - acc: 0.499 - ETA: 2s - loss: 8.0698 - acc: 0.499 - ETA: 2s - loss: 8.0675 - acc: 0.499 - ETA: 2s - loss: 8.0734 - acc: 0.499 - ETA: 2s - loss: 8.0741 - acc: 0.498 - ETA: 2s - loss: 8.0696 - acc: 0.499 - ETA: 2s - loss: 8.0696 - acc: 0.499 - ETA: 2s - loss: 8.0673 - acc: 0.499 - ETA: 2s - loss: 8.0717 - acc: 0.499 - ETA: 2s - loss: 8.0636 - acc: 0.499 - ETA: 2s - loss: 8.0571 - acc: 0.500 - ETA: 2s - loss: 8.0579 - acc: 0.500 - ETA: 2s - loss: 8.0614 - acc: 0.499 - ETA: 1s - loss: 8.0622 - acc: 0.499 - ETA: 1s - loss: 8.0579 - acc: 0.500 - ETA: 1s - loss: 8.0579 - acc: 0.500 - ETA: 1s - loss: 8.0586 - acc: 0.499 - ETA: 1s - loss: 8.0600 - acc: 0.499 - ETA: 1s - loss: 8.0551 - acc: 0.500 - ETA: 1s - loss: 8.0537 - acc: 0.500 - ETA: 1s - loss: 8.0516 - acc: 0.500 - ETA: 1s - loss: 8.0488 - acc: 0.500 - ETA: 1s - loss: 8.0496 - acc: 0.500 - ETA: 1s - loss: 8.0503 - acc: 0.500 - ETA: 1s - loss: 8.0496 - acc: 0.500 - ETA: 1s - loss: 8.0517 - acc: 0.500 - ETA: 1s - loss: 8.0538 - acc: 0.500 - ETA: 1s - loss: 8.0538 - acc: 0.500 - ETA: 1s - loss: 8.0559 - acc: 0.500 - ETA: 1s - loss: 8.0559 - acc: 0.500 - ETA: 1s - loss: 8.0566 - acc: 0.500 - ETA: 0s - loss: 8.0539 - acc: 0.500 - ETA: 0s - loss: 8.0539 - acc: 0.500 - ETA: 0s - loss: 8.0499 - acc: 0.500 - ETA: 0s - loss: 8.0539 - acc: 0.500 - ETA: 0s - loss: 8.0586 - acc: 0.499 - ETA: 0s - loss: 8.0626 - acc: 0.499 - ETA: 0s - loss: 8.0599 - acc: 0.499 - ETA: 0s - loss: 8.0533 - acc: 0.500 - ETA: 0s - loss: 8.0560 - acc: 0.500 - ETA: 0s - loss: 8.0560 - acc: 0.500 - ETA: 0s - loss: 8.0612 - acc: 0.499 - ETA: 0s - loss: 8.0580 - acc: 0.500 - ETA: 0s - loss: 8.0580 - acc: 0.500 - ETA: 0s - loss: 8.0547 - acc: 0.500 - ETA: 0s - loss: 8.0580 - acc: 0.500 - ETA: 0s - loss: 8.0573 - acc: 0.500 - ETA: 0s - loss: 8.0593 - acc: 0.499 - ETA: 0s - loss: 8.0619 - acc: 0.499 - 20s 805us/step - loss: 8.0618 - acc: 0.4997\n",
      "Epoch 2/5\n"
     ]
    },
    {
     "name": "stdout",
     "output_type": "stream",
     "text": [
      "18272/25000 [====================>.........] - ETA: 19s - loss: 7.5554 - acc: 0.53 - ETA: 20s - loss: 7.5554 - acc: 0.53 - ETA: 19s - loss: 7.8912 - acc: 0.51 - ETA: 20s - loss: 8.0590 - acc: 0.50 - ETA: 20s - loss: 8.1598 - acc: 0.49 - ETA: 20s - loss: 8.1010 - acc: 0.49 - ETA: 20s - loss: 7.8792 - acc: 0.51 - ETA: 20s - loss: 7.9646 - acc: 0.50 - ETA: 20s - loss: 7.8912 - acc: 0.51 - ETA: 20s - loss: 7.9331 - acc: 0.50 - ETA: 19s - loss: 8.1735 - acc: 0.49 - ETA: 19s - loss: 8.2605 - acc: 0.48 - ETA: 19s - loss: 8.2929 - acc: 0.48 - ETA: 19s - loss: 8.2703 - acc: 0.48 - ETA: 19s - loss: 8.1964 - acc: 0.49 - ETA: 19s - loss: 8.1430 - acc: 0.49 - ETA: 19s - loss: 8.1495 - acc: 0.49 - ETA: 18s - loss: 8.0351 - acc: 0.50 - ETA: 18s - loss: 8.0143 - acc: 0.50 - ETA: 18s - loss: 8.0269 - acc: 0.50 - ETA: 18s - loss: 8.0389 - acc: 0.50 - ETA: 18s - loss: 8.0305 - acc: 0.50 - ETA: 18s - loss: 8.0321 - acc: 0.50 - ETA: 18s - loss: 8.0069 - acc: 0.50 - ETA: 18s - loss: 8.0255 - acc: 0.50 - ETA: 17s - loss: 8.0509 - acc: 0.50 - ETA: 17s - loss: 8.0281 - acc: 0.50 - ETA: 17s - loss: 8.0813 - acc: 0.49 - ETA: 17s - loss: 8.1300 - acc: 0.49 - ETA: 17s - loss: 8.1067 - acc: 0.49 - ETA: 17s - loss: 8.1048 - acc: 0.49 - ETA: 17s - loss: 8.1535 - acc: 0.49 - ETA: 16s - loss: 8.1440 - acc: 0.49 - ETA: 16s - loss: 8.1879 - acc: 0.49 - ETA: 16s - loss: 8.1553 - acc: 0.49 - ETA: 16s - loss: 8.1576 - acc: 0.49 - ETA: 16s - loss: 8.1287 - acc: 0.49 - ETA: 16s - loss: 8.1421 - acc: 0.49 - ETA: 16s - loss: 8.1699 - acc: 0.49 - ETA: 16s - loss: 8.1813 - acc: 0.49 - ETA: 16s - loss: 8.1398 - acc: 0.49 - ETA: 15s - loss: 8.1006 - acc: 0.49 - ETA: 15s - loss: 8.0725 - acc: 0.49 - ETA: 15s - loss: 8.0328 - acc: 0.50 - ETA: 15s - loss: 7.9988 - acc: 0.50 - ETA: 15s - loss: 8.0465 - acc: 0.50 - ETA: 15s - loss: 8.0467 - acc: 0.50 - ETA: 15s - loss: 8.0428 - acc: 0.50 - ETA: 15s - loss: 8.0234 - acc: 0.50 - ETA: 15s - loss: 8.0397 - acc: 0.50 - ETA: 15s - loss: 8.0250 - acc: 0.50 - ETA: 15s - loss: 8.0217 - acc: 0.50 - ETA: 15s - loss: 8.0189 - acc: 0.50 - ETA: 15s - loss: 7.9876 - acc: 0.50 - ETA: 14s - loss: 7.9891 - acc: 0.50 - ETA: 14s - loss: 7.9734 - acc: 0.50 - ETA: 14s - loss: 7.9751 - acc: 0.50 - ETA: 14s - loss: 7.9537 - acc: 0.50 - ETA: 14s - loss: 7.9590 - acc: 0.50 - ETA: 14s - loss: 7.9640 - acc: 0.50 - ETA: 14s - loss: 7.9533 - acc: 0.50 - ETA: 14s - loss: 7.9614 - acc: 0.50 - ETA: 14s - loss: 7.9631 - acc: 0.50 - ETA: 14s - loss: 7.9412 - acc: 0.50 - ETA: 14s - loss: 7.9635 - acc: 0.50 - ETA: 14s - loss: 7.9646 - acc: 0.50 - ETA: 14s - loss: 7.9572 - acc: 0.50 - ETA: 13s - loss: 7.9555 - acc: 0.50 - ETA: 13s - loss: 7.9517 - acc: 0.50 - ETA: 13s - loss: 7.9665 - acc: 0.50 - ETA: 13s - loss: 7.9729 - acc: 0.50 - ETA: 13s - loss: 7.9844 - acc: 0.50 - ETA: 13s - loss: 7.9905 - acc: 0.50 - ETA: 13s - loss: 7.9886 - acc: 0.50 - ETA: 13s - loss: 7.9919 - acc: 0.50 - ETA: 13s - loss: 7.9926 - acc: 0.50 - ETA: 13s - loss: 7.9932 - acc: 0.50 - ETA: 13s - loss: 7.9939 - acc: 0.50 - ETA: 13s - loss: 7.9921 - acc: 0.50 - ETA: 13s - loss: 7.9955 - acc: 0.50 - ETA: 13s - loss: 7.9940 - acc: 0.50 - ETA: 13s - loss: 7.9994 - acc: 0.50 - ETA: 13s - loss: 8.0143 - acc: 0.50 - ETA: 13s - loss: 8.0031 - acc: 0.50 - ETA: 13s - loss: 8.0105 - acc: 0.50 - ETA: 13s - loss: 8.0087 - acc: 0.50 - ETA: 13s - loss: 8.0273 - acc: 0.50 - ETA: 13s - loss: 8.0255 - acc: 0.50 - ETA: 13s - loss: 8.0281 - acc: 0.50 - ETA: 13s - loss: 8.0394 - acc: 0.50 - ETA: 13s - loss: 8.0268 - acc: 0.50 - ETA: 13s - loss: 8.0292 - acc: 0.50 - ETA: 12s - loss: 8.0295 - acc: 0.50 - ETA: 12s - loss: 8.0361 - acc: 0.50 - ETA: 12s - loss: 8.0197 - acc: 0.50 - ETA: 12s - loss: 8.0015 - acc: 0.50 - ETA: 12s - loss: 7.9938 - acc: 0.50 - ETA: 12s - loss: 7.9781 - acc: 0.50 - ETA: 12s - loss: 7.9891 - acc: 0.50 - ETA: 12s - loss: 7.9956 - acc: 0.50 - ETA: 12s - loss: 7.9944 - acc: 0.50 - ETA: 12s - loss: 7.9988 - acc: 0.50 - ETA: 12s - loss: 8.0014 - acc: 0.50 - ETA: 12s - loss: 7.9982 - acc: 0.50 - ETA: 12s - loss: 8.0027 - acc: 0.50 - ETA: 12s - loss: 8.0163 - acc: 0.50 - ETA: 12s - loss: 8.0094 - acc: 0.50 - ETA: 12s - loss: 8.0118 - acc: 0.50 - ETA: 12s - loss: 8.0159 - acc: 0.50 - ETA: 11s - loss: 8.0252 - acc: 0.50 - ETA: 11s - loss: 8.0379 - acc: 0.50 - ETA: 11s - loss: 8.0521 - acc: 0.50 - ETA: 11s - loss: 8.0608 - acc: 0.49 - ETA: 11s - loss: 8.0539 - acc: 0.50 - ETA: 11s - loss: 8.0540 - acc: 0.50 - ETA: 11s - loss: 8.0624 - acc: 0.49 - ETA: 11s - loss: 8.0673 - acc: 0.49 - ETA: 11s - loss: 8.0656 - acc: 0.49 - ETA: 11s - loss: 8.0688 - acc: 0.49 - ETA: 11s - loss: 8.0784 - acc: 0.49 - ETA: 11s - loss: 8.0638 - acc: 0.49 - ETA: 10s - loss: 8.0733 - acc: 0.49 - ETA: 10s - loss: 8.0747 - acc: 0.49 - ETA: 10s - loss: 8.0699 - acc: 0.49 - ETA: 10s - loss: 8.0652 - acc: 0.49 - ETA: 10s - loss: 8.0727 - acc: 0.49 - ETA: 10s - loss: 8.0666 - acc: 0.49 - ETA: 10s - loss: 8.0680 - acc: 0.49 - ETA: 10s - loss: 8.0694 - acc: 0.49 - ETA: 10s - loss: 8.0796 - acc: 0.49 - ETA: 10s - loss: 8.0838 - acc: 0.49 - ETA: 10s - loss: 8.0865 - acc: 0.49 - ETA: 10s - loss: 8.0877 - acc: 0.49 - ETA: 9s - loss: 8.0917 - acc: 0.4980 - ETA: 9s - loss: 8.0858 - acc: 0.498 - ETA: 9s - loss: 8.0884 - acc: 0.498 - ETA: 9s - loss: 8.0784 - acc: 0.498 - ETA: 9s - loss: 8.0714 - acc: 0.499 - ETA: 9s - loss: 8.0631 - acc: 0.499 - ETA: 9s - loss: 8.0631 - acc: 0.499 - ETA: 9s - loss: 8.0738 - acc: 0.499 - ETA: 9s - loss: 8.0923 - acc: 0.497 - ETA: 9s - loss: 8.0920 - acc: 0.498 - ETA: 9s - loss: 8.0970 - acc: 0.497 - ETA: 9s - loss: 8.0980 - acc: 0.497 - ETA: 9s - loss: 8.1016 - acc: 0.497 - ETA: 9s - loss: 8.1039 - acc: 0.497 - ETA: 8s - loss: 8.1062 - acc: 0.497 - ETA: 8s - loss: 8.1022 - acc: 0.497 - ETA: 8s - loss: 8.1058 - acc: 0.497 - ETA: 8s - loss: 8.1080 - acc: 0.497 - ETA: 8s - loss: 8.1114 - acc: 0.496 - ETA: 8s - loss: 8.1110 - acc: 0.496 - ETA: 8s - loss: 8.1131 - acc: 0.496 - ETA: 8s - loss: 8.1164 - acc: 0.496 - ETA: 8s - loss: 8.1208 - acc: 0.496 - ETA: 8s - loss: 8.1204 - acc: 0.496 - ETA: 8s - loss: 8.1175 - acc: 0.496 - ETA: 8s - loss: 8.1112 - acc: 0.496 - ETA: 8s - loss: 8.1061 - acc: 0.497 - ETA: 8s - loss: 8.1035 - acc: 0.497 - ETA: 8s - loss: 8.1032 - acc: 0.497 - ETA: 8s - loss: 8.1018 - acc: 0.497 - ETA: 7s - loss: 8.1062 - acc: 0.497 - ETA: 7s - loss: 8.1174 - acc: 0.496 - ETA: 7s - loss: 8.1081 - acc: 0.497 - ETA: 7s - loss: 8.1124 - acc: 0.496 - ETA: 7s - loss: 8.1133 - acc: 0.496 - ETA: 7s - loss: 8.1085 - acc: 0.496 - ETA: 7s - loss: 8.1038 - acc: 0.497 - ETA: 7s - loss: 8.1035 - acc: 0.497 - ETA: 7s - loss: 8.0999 - acc: 0.497 - ETA: 7s - loss: 8.0975 - acc: 0.497 - ETA: 7s - loss: 8.0896 - acc: 0.498 - ETA: 7s - loss: 8.0905 - acc: 0.498 - ETA: 7s - loss: 8.0838 - acc: 0.498 - ETA: 7s - loss: 8.0804 - acc: 0.498 - ETA: 7s - loss: 8.0761 - acc: 0.498 - ETA: 7s - loss: 8.0770 - acc: 0.498 - ETA: 7s - loss: 8.0685 - acc: 0.499 - ETA: 6s - loss: 8.0653 - acc: 0.499 - ETA: 6s - loss: 8.0674 - acc: 0.499 - ETA: 6s - loss: 8.0621 - acc: 0.499 - ETA: 6s - loss: 8.0683 - acc: 0.499 - ETA: 6s - loss: 8.0723 - acc: 0.499 - ETA: 6s - loss: 8.0641 - acc: 0.499 - ETA: 6s - loss: 8.0631 - acc: 0.499 - ETA: 6s - loss: 8.0550 - acc: 0.500 - ETA: 6s - loss: 8.0451 - acc: 0.500 - ETA: 6s - loss: 8.0511 - acc: 0.500 - ETA: 6s - loss: 8.0443 - acc: 0.500 - ETA: 6s - loss: 8.0483 - acc: 0.500 - ETA: 6s - loss: 8.0493 - acc: 0.500 - ETA: 6s - loss: 8.0513 - acc: 0.500 - ETA: 6s - loss: 8.0561 - acc: 0.500 - ETA: 6s - loss: 8.0562 - acc: 0.500 - ETA: 5s - loss: 8.0581 - acc: 0.500 - ETA: 5s - loss: 8.0600 - acc: 0.499 - ETA: 5s - loss: 8.0647 - acc: 0.499 - ETA: 5s - loss: 8.0666 - acc: 0.499 - ETA: 5s - loss: 8.0731 - acc: 0.499 - ETA: 5s - loss: 8.0731 - acc: 0.499 - ETA: 5s - loss: 8.0702 - acc: 0.499 - ETA: 5s - loss: 8.0692 - acc: 0.499 - ETA: 5s - loss: 8.0729 - acc: 0.499 - ETA: 5s - loss: 8.0746 - acc: 0.499 - ETA: 5s - loss: 8.0682 - acc: 0.499 - ETA: 5s - loss: 8.0691 - acc: 0.499 - ETA: 5s - loss: 8.0745 - acc: 0.499 - ETA: 5s - loss: 8.0762 - acc: 0.498 - ETA: 5s - loss: 8.0752 - acc: 0.499 - ETA: 5s - loss: 8.0743 - acc: 0.499 - ETA: 5s - loss: 8.0769 - acc: 0.498 - ETA: 4s - loss: 8.0786 - acc: 0.498 - ETA: 4s - loss: 8.0873 - acc: 0.4982"
     ]
    },
    {
     "name": "stdout",
     "output_type": "stream",
     "text": [
      "25000/25000 [==============================] - ETA: 4s - loss: 8.0916 - acc: 0.498 - ETA: 4s - loss: 8.0906 - acc: 0.498 - ETA: 4s - loss: 8.0896 - acc: 0.498 - ETA: 4s - loss: 8.0965 - acc: 0.497 - ETA: 4s - loss: 8.0955 - acc: 0.497 - ETA: 4s - loss: 8.1005 - acc: 0.497 - ETA: 4s - loss: 8.0952 - acc: 0.497 - ETA: 4s - loss: 8.0907 - acc: 0.498 - ETA: 4s - loss: 8.0906 - acc: 0.498 - ETA: 4s - loss: 8.0896 - acc: 0.498 - ETA: 4s - loss: 8.0903 - acc: 0.498 - ETA: 4s - loss: 8.0944 - acc: 0.497 - ETA: 4s - loss: 8.0943 - acc: 0.497 - ETA: 4s - loss: 8.0934 - acc: 0.497 - ETA: 4s - loss: 8.0891 - acc: 0.498 - ETA: 4s - loss: 8.0848 - acc: 0.498 - ETA: 4s - loss: 8.0839 - acc: 0.498 - ETA: 4s - loss: 8.0830 - acc: 0.498 - ETA: 3s - loss: 8.0862 - acc: 0.498 - ETA: 3s - loss: 8.0886 - acc: 0.498 - ETA: 3s - loss: 8.0893 - acc: 0.498 - ETA: 3s - loss: 8.0900 - acc: 0.498 - ETA: 3s - loss: 8.0874 - acc: 0.498 - ETA: 3s - loss: 8.0841 - acc: 0.498 - ETA: 3s - loss: 8.0848 - acc: 0.498 - ETA: 3s - loss: 8.0799 - acc: 0.498 - ETA: 3s - loss: 8.0798 - acc: 0.498 - ETA: 3s - loss: 8.0773 - acc: 0.498 - ETA: 3s - loss: 8.0765 - acc: 0.498 - ETA: 3s - loss: 8.0725 - acc: 0.499 - ETA: 3s - loss: 8.0701 - acc: 0.499 - ETA: 3s - loss: 8.0669 - acc: 0.499 - ETA: 3s - loss: 8.0653 - acc: 0.499 - ETA: 3s - loss: 8.0622 - acc: 0.499 - ETA: 3s - loss: 8.0621 - acc: 0.499 - ETA: 3s - loss: 8.0652 - acc: 0.499 - ETA: 2s - loss: 8.0713 - acc: 0.499 - ETA: 2s - loss: 8.0713 - acc: 0.499 - ETA: 2s - loss: 8.0727 - acc: 0.499 - ETA: 2s - loss: 8.0689 - acc: 0.499 - ETA: 2s - loss: 8.0681 - acc: 0.499 - ETA: 2s - loss: 8.0733 - acc: 0.499 - ETA: 2s - loss: 8.0710 - acc: 0.499 - ETA: 2s - loss: 8.0724 - acc: 0.499 - ETA: 2s - loss: 8.0753 - acc: 0.499 - ETA: 2s - loss: 8.0745 - acc: 0.499 - ETA: 2s - loss: 8.0738 - acc: 0.499 - ETA: 2s - loss: 8.0671 - acc: 0.499 - ETA: 2s - loss: 8.0642 - acc: 0.499 - ETA: 2s - loss: 8.0641 - acc: 0.499 - ETA: 1s - loss: 8.0641 - acc: 0.499 - ETA: 1s - loss: 8.0663 - acc: 0.499 - ETA: 1s - loss: 8.0677 - acc: 0.499 - ETA: 1s - loss: 8.0712 - acc: 0.499 - ETA: 1s - loss: 8.0762 - acc: 0.498 - ETA: 1s - loss: 8.0740 - acc: 0.499 - ETA: 1s - loss: 8.0704 - acc: 0.499 - ETA: 1s - loss: 8.0640 - acc: 0.499 - ETA: 1s - loss: 8.0626 - acc: 0.499 - ETA: 1s - loss: 8.0612 - acc: 0.499 - ETA: 1s - loss: 8.0619 - acc: 0.499 - ETA: 1s - loss: 8.0604 - acc: 0.499 - ETA: 1s - loss: 8.0674 - acc: 0.499 - ETA: 1s - loss: 8.0681 - acc: 0.499 - ETA: 1s - loss: 8.0660 - acc: 0.499 - ETA: 1s - loss: 8.0639 - acc: 0.499 - ETA: 1s - loss: 8.0590 - acc: 0.500 - ETA: 1s - loss: 8.0604 - acc: 0.499 - ETA: 1s - loss: 8.0604 - acc: 0.499 - ETA: 0s - loss: 8.0584 - acc: 0.500 - ETA: 0s - loss: 8.0523 - acc: 0.500 - ETA: 0s - loss: 8.0469 - acc: 0.500 - ETA: 0s - loss: 8.0456 - acc: 0.500 - ETA: 0s - loss: 8.0476 - acc: 0.500 - ETA: 0s - loss: 8.0463 - acc: 0.500 - ETA: 0s - loss: 8.0490 - acc: 0.500 - ETA: 0s - loss: 8.0537 - acc: 0.500 - ETA: 0s - loss: 8.0551 - acc: 0.500 - ETA: 0s - loss: 8.0538 - acc: 0.500 - ETA: 0s - loss: 8.0505 - acc: 0.500 - ETA: 0s - loss: 8.0525 - acc: 0.500 - ETA: 0s - loss: 8.0545 - acc: 0.500 - ETA: 0s - loss: 8.0571 - acc: 0.500 - ETA: 0s - loss: 8.0538 - acc: 0.500 - ETA: 0s - loss: 8.0532 - acc: 0.500 - ETA: 0s - loss: 8.0539 - acc: 0.500 - ETA: 0s - loss: 8.0565 - acc: 0.500 - 19s 744us/step - loss: 8.0590 - acc: 0.5000\n",
      "Epoch 3/5\n"
     ]
    },
    {
     "name": "stdout",
     "output_type": "stream",
     "text": [
      "18752/25000 [=====================>........] - ETA: 19s - loss: 10.5775 - acc: 0.343 - ETA: 18s - loss: 7.6813 - acc: 0.523 - ETA: 18s - loss: 8.0590 - acc: 0.50 - ETA: 19s - loss: 7.6183 - acc: 0.52 - ETA: 19s - loss: 7.5554 - acc: 0.53 - ETA: 19s - loss: 7.6393 - acc: 0.52 - ETA: 19s - loss: 8.0255 - acc: 0.50 - ETA: 19s - loss: 7.9405 - acc: 0.50 - ETA: 19s - loss: 7.7820 - acc: 0.51 - ETA: 19s - loss: 7.8988 - acc: 0.50 - ETA: 18s - loss: 7.9180 - acc: 0.50 - ETA: 18s - loss: 7.8072 - acc: 0.51 - ETA: 18s - loss: 7.7991 - acc: 0.51 - ETA: 18s - loss: 7.7035 - acc: 0.52 - ETA: 17s - loss: 7.6915 - acc: 0.52 - ETA: 17s - loss: 7.7442 - acc: 0.51 - ETA: 17s - loss: 7.7592 - acc: 0.51 - ETA: 17s - loss: 7.6584 - acc: 0.52 - ETA: 17s - loss: 7.6868 - acc: 0.52 - ETA: 17s - loss: 7.7337 - acc: 0.52 - ETA: 17s - loss: 7.7669 - acc: 0.51 - ETA: 17s - loss: 7.8310 - acc: 0.51 - ETA: 17s - loss: 7.9217 - acc: 0.50 - ETA: 17s - loss: 7.8823 - acc: 0.51 - ETA: 17s - loss: 7.8627 - acc: 0.51 - ETA: 17s - loss: 7.8939 - acc: 0.51 - ETA: 17s - loss: 7.8592 - acc: 0.51 - ETA: 17s - loss: 7.8886 - acc: 0.51 - ETA: 17s - loss: 7.8516 - acc: 0.51 - ETA: 17s - loss: 7.8746 - acc: 0.51 - ETA: 17s - loss: 7.8866 - acc: 0.51 - ETA: 17s - loss: 7.8777 - acc: 0.51 - ETA: 17s - loss: 7.8759 - acc: 0.51 - ETA: 17s - loss: 7.8550 - acc: 0.51 - ETA: 17s - loss: 7.8352 - acc: 0.51 - ETA: 17s - loss: 7.8588 - acc: 0.51 - ETA: 17s - loss: 7.8775 - acc: 0.51 - ETA: 17s - loss: 7.8816 - acc: 0.51 - ETA: 17s - loss: 7.8764 - acc: 0.51 - ETA: 17s - loss: 7.8587 - acc: 0.51 - ETA: 17s - loss: 7.8364 - acc: 0.51 - ETA: 17s - loss: 7.8410 - acc: 0.51 - ETA: 17s - loss: 7.8555 - acc: 0.51 - ETA: 17s - loss: 7.8496 - acc: 0.51 - ETA: 17s - loss: 7.8702 - acc: 0.51 - ETA: 16s - loss: 7.8755 - acc: 0.51 - ETA: 16s - loss: 7.8622 - acc: 0.51 - ETA: 16s - loss: 7.8585 - acc: 0.51 - ETA: 16s - loss: 7.8444 - acc: 0.51 - ETA: 16s - loss: 7.8627 - acc: 0.51 - ETA: 16s - loss: 7.8551 - acc: 0.51 - ETA: 16s - loss: 7.8011 - acc: 0.51 - ETA: 16s - loss: 7.8132 - acc: 0.51 - ETA: 16s - loss: 7.8290 - acc: 0.51 - ETA: 16s - loss: 7.8248 - acc: 0.51 - ETA: 16s - loss: 7.8644 - acc: 0.51 - ETA: 16s - loss: 7.8824 - acc: 0.51 - ETA: 16s - loss: 7.8789 - acc: 0.51 - ETA: 15s - loss: 7.8864 - acc: 0.51 - ETA: 15s - loss: 7.8865 - acc: 0.51 - ETA: 15s - loss: 7.8715 - acc: 0.51 - ETA: 15s - loss: 7.8706 - acc: 0.51 - ETA: 15s - loss: 7.8731 - acc: 0.51 - ETA: 15s - loss: 7.8622 - acc: 0.51 - ETA: 15s - loss: 7.8846 - acc: 0.51 - ETA: 15s - loss: 7.9105 - acc: 0.50 - ETA: 15s - loss: 7.9133 - acc: 0.50 - ETA: 15s - loss: 7.9005 - acc: 0.50 - ETA: 15s - loss: 7.9095 - acc: 0.50 - ETA: 15s - loss: 7.9211 - acc: 0.50 - ETA: 15s - loss: 7.9206 - acc: 0.50 - ETA: 15s - loss: 7.9230 - acc: 0.50 - ETA: 14s - loss: 7.9566 - acc: 0.50 - ETA: 14s - loss: 7.9331 - acc: 0.50 - ETA: 14s - loss: 7.9434 - acc: 0.50 - ETA: 14s - loss: 7.9311 - acc: 0.50 - ETA: 14s - loss: 7.9171 - acc: 0.50 - ETA: 14s - loss: 7.9246 - acc: 0.50 - ETA: 14s - loss: 7.9260 - acc: 0.50 - ETA: 14s - loss: 7.9460 - acc: 0.50 - ETA: 14s - loss: 7.9249 - acc: 0.50 - ETA: 14s - loss: 7.9518 - acc: 0.50 - ETA: 14s - loss: 7.9583 - acc: 0.50 - ETA: 13s - loss: 7.9622 - acc: 0.50 - ETA: 13s - loss: 7.9636 - acc: 0.50 - ETA: 13s - loss: 7.9645 - acc: 0.50 - ETA: 13s - loss: 7.9583 - acc: 0.50 - ETA: 13s - loss: 7.9569 - acc: 0.50 - ETA: 13s - loss: 7.9418 - acc: 0.50 - ETA: 13s - loss: 7.9405 - acc: 0.50 - ETA: 13s - loss: 7.9326 - acc: 0.50 - ETA: 13s - loss: 7.9494 - acc: 0.50 - ETA: 13s - loss: 7.9503 - acc: 0.50 - ETA: 13s - loss: 7.9364 - acc: 0.50 - ETA: 13s - loss: 7.9402 - acc: 0.50 - ETA: 13s - loss: 7.9438 - acc: 0.50 - ETA: 13s - loss: 7.9495 - acc: 0.50 - ETA: 13s - loss: 7.9591 - acc: 0.50 - ETA: 13s - loss: 7.9521 - acc: 0.50 - ETA: 12s - loss: 7.9473 - acc: 0.50 - ETA: 12s - loss: 7.9647 - acc: 0.50 - ETA: 12s - loss: 7.9817 - acc: 0.50 - ETA: 12s - loss: 7.9807 - acc: 0.50 - ETA: 12s - loss: 7.9854 - acc: 0.50 - ETA: 12s - loss: 7.9920 - acc: 0.50 - ETA: 12s - loss: 8.0022 - acc: 0.50 - ETA: 12s - loss: 7.9991 - acc: 0.50 - ETA: 12s - loss: 7.9979 - acc: 0.50 - ETA: 12s - loss: 8.0004 - acc: 0.50 - ETA: 12s - loss: 8.0083 - acc: 0.50 - ETA: 11s - loss: 8.0035 - acc: 0.50 - ETA: 11s - loss: 8.0129 - acc: 0.50 - ETA: 11s - loss: 8.0204 - acc: 0.50 - ETA: 11s - loss: 8.0174 - acc: 0.50 - ETA: 11s - loss: 8.0195 - acc: 0.50 - ETA: 11s - loss: 8.0165 - acc: 0.50 - ETA: 11s - loss: 8.0304 - acc: 0.50 - ETA: 11s - loss: 8.0357 - acc: 0.50 - ETA: 11s - loss: 8.0392 - acc: 0.50 - ETA: 11s - loss: 8.0394 - acc: 0.50 - ETA: 11s - loss: 8.0461 - acc: 0.50 - ETA: 11s - loss: 8.0462 - acc: 0.50 - ETA: 10s - loss: 8.0638 - acc: 0.49 - ETA: 10s - loss: 8.0590 - acc: 0.50 - ETA: 10s - loss: 8.0575 - acc: 0.50 - ETA: 10s - loss: 8.0652 - acc: 0.49 - ETA: 10s - loss: 8.0652 - acc: 0.49 - ETA: 10s - loss: 8.0590 - acc: 0.50 - ETA: 10s - loss: 8.0606 - acc: 0.49 - ETA: 10s - loss: 8.0620 - acc: 0.49 - ETA: 10s - loss: 8.0605 - acc: 0.49 - ETA: 10s - loss: 8.0605 - acc: 0.49 - ETA: 10s - loss: 8.0547 - acc: 0.50 - ETA: 10s - loss: 8.0475 - acc: 0.50 - ETA: 10s - loss: 8.0533 - acc: 0.50 - ETA: 9s - loss: 8.0633 - acc: 0.4997 - ETA: 9s - loss: 8.0717 - acc: 0.499 - ETA: 9s - loss: 8.0702 - acc: 0.499 - ETA: 9s - loss: 8.0757 - acc: 0.499 - ETA: 9s - loss: 8.0810 - acc: 0.498 - ETA: 9s - loss: 8.0795 - acc: 0.498 - ETA: 9s - loss: 8.0753 - acc: 0.499 - ETA: 9s - loss: 8.0671 - acc: 0.499 - ETA: 9s - loss: 8.0657 - acc: 0.499 - ETA: 9s - loss: 8.0511 - acc: 0.500 - ETA: 9s - loss: 8.0486 - acc: 0.500 - ETA: 9s - loss: 8.0500 - acc: 0.500 - ETA: 9s - loss: 8.0578 - acc: 0.500 - ETA: 9s - loss: 8.0552 - acc: 0.500 - ETA: 8s - loss: 8.0502 - acc: 0.500 - ETA: 8s - loss: 8.0628 - acc: 0.499 - ETA: 8s - loss: 8.0665 - acc: 0.499 - ETA: 8s - loss: 8.0628 - acc: 0.499 - ETA: 8s - loss: 8.0627 - acc: 0.499 - ETA: 8s - loss: 8.0676 - acc: 0.499 - ETA: 8s - loss: 8.0676 - acc: 0.499 - ETA: 8s - loss: 8.0723 - acc: 0.499 - ETA: 8s - loss: 8.0746 - acc: 0.499 - ETA: 8s - loss: 8.0757 - acc: 0.499 - ETA: 8s - loss: 8.0768 - acc: 0.498 - ETA: 8s - loss: 8.0614 - acc: 0.499 - ETA: 8s - loss: 8.0637 - acc: 0.499 - ETA: 8s - loss: 8.0683 - acc: 0.499 - ETA: 7s - loss: 8.0705 - acc: 0.499 - ETA: 7s - loss: 8.0796 - acc: 0.498 - ETA: 7s - loss: 8.0761 - acc: 0.498 - ETA: 7s - loss: 8.0726 - acc: 0.499 - ETA: 7s - loss: 8.0793 - acc: 0.498 - ETA: 7s - loss: 8.0803 - acc: 0.498 - ETA: 7s - loss: 8.0713 - acc: 0.499 - ETA: 7s - loss: 8.0756 - acc: 0.499 - ETA: 7s - loss: 8.0689 - acc: 0.499 - ETA: 7s - loss: 8.0710 - acc: 0.499 - ETA: 7s - loss: 8.0775 - acc: 0.498 - ETA: 7s - loss: 8.0773 - acc: 0.498 - ETA: 7s - loss: 8.0751 - acc: 0.499 - ETA: 7s - loss: 8.0750 - acc: 0.499 - ETA: 7s - loss: 8.0823 - acc: 0.498 - ETA: 6s - loss: 8.0811 - acc: 0.498 - ETA: 6s - loss: 8.0862 - acc: 0.498 - ETA: 6s - loss: 8.0819 - acc: 0.498 - ETA: 6s - loss: 8.0786 - acc: 0.498 - ETA: 6s - loss: 8.0724 - acc: 0.499 - ETA: 6s - loss: 8.0784 - acc: 0.498 - ETA: 6s - loss: 8.0813 - acc: 0.498 - ETA: 6s - loss: 8.0842 - acc: 0.498 - ETA: 6s - loss: 8.0801 - acc: 0.498 - ETA: 6s - loss: 8.0750 - acc: 0.499 - ETA: 6s - loss: 8.0719 - acc: 0.499 - ETA: 6s - loss: 8.0758 - acc: 0.499 - ETA: 6s - loss: 8.0777 - acc: 0.498 - ETA: 6s - loss: 8.0785 - acc: 0.498 - ETA: 6s - loss: 8.0649 - acc: 0.499 - ETA: 5s - loss: 8.0590 - acc: 0.500 - ETA: 5s - loss: 8.0562 - acc: 0.500 - ETA: 5s - loss: 8.0590 - acc: 0.500 - ETA: 5s - loss: 8.0609 - acc: 0.499 - ETA: 5s - loss: 8.0628 - acc: 0.499 - ETA: 5s - loss: 8.0684 - acc: 0.499 - ETA: 5s - loss: 8.0684 - acc: 0.499 - ETA: 5s - loss: 8.0720 - acc: 0.499 - ETA: 5s - loss: 8.0710 - acc: 0.499 - ETA: 5s - loss: 8.0719 - acc: 0.499 - ETA: 5s - loss: 8.0682 - acc: 0.499 - ETA: 5s - loss: 8.0735 - acc: 0.499 - ETA: 5s - loss: 8.0762 - acc: 0.498 - ETA: 5s - loss: 8.0815 - acc: 0.498 - ETA: 4s - loss: 8.0769 - acc: 0.498 - ETA: 4s - loss: 8.0759 - acc: 0.499 - ETA: 4s - loss: 8.0767 - acc: 0.498 - ETA: 4s - loss: 8.0740 - acc: 0.499 - ETA: 4s - loss: 8.0704 - acc: 0.499 - ETA: 4s - loss: 8.0695 - acc: 0.499 - ETA: 4s - loss: 8.0668 - acc: 0.499 - ETA: 4s - loss: 8.0711 - acc: 0.499325000/25000 [==============================] - ETA: 4s - loss: 8.0727 - acc: 0.499 - ETA: 4s - loss: 8.0701 - acc: 0.499 - ETA: 4s - loss: 8.0743 - acc: 0.499 - ETA: 4s - loss: 8.0700 - acc: 0.499 - ETA: 4s - loss: 8.0699 - acc: 0.499 - ETA: 4s - loss: 8.0666 - acc: 0.499 - ETA: 3s - loss: 8.0649 - acc: 0.499 - ETA: 3s - loss: 8.0632 - acc: 0.499 - ETA: 3s - loss: 8.0648 - acc: 0.499 - ETA: 3s - loss: 8.0623 - acc: 0.499 - ETA: 3s - loss: 8.0631 - acc: 0.499 - ETA: 3s - loss: 8.0655 - acc: 0.499 - ETA: 3s - loss: 8.0711 - acc: 0.499 - ETA: 3s - loss: 8.0759 - acc: 0.499 - ETA: 3s - loss: 8.0806 - acc: 0.498 - ETA: 3s - loss: 8.0813 - acc: 0.498 - ETA: 3s - loss: 8.0796 - acc: 0.498 - ETA: 3s - loss: 8.0795 - acc: 0.498 - ETA: 3s - loss: 8.0763 - acc: 0.498 - ETA: 3s - loss: 8.0786 - acc: 0.498 - ETA: 3s - loss: 8.0785 - acc: 0.498 - ETA: 2s - loss: 8.0823 - acc: 0.498 - ETA: 2s - loss: 8.0798 - acc: 0.498 - ETA: 2s - loss: 8.0790 - acc: 0.498 - ETA: 2s - loss: 8.0797 - acc: 0.498 - ETA: 2s - loss: 8.0704 - acc: 0.499 - ETA: 2s - loss: 8.0727 - acc: 0.499 - ETA: 2s - loss: 8.0726 - acc: 0.499 - ETA: 2s - loss: 8.0740 - acc: 0.499 - ETA: 2s - loss: 8.0747 - acc: 0.499 - ETA: 2s - loss: 8.0717 - acc: 0.499 - ETA: 2s - loss: 8.0679 - acc: 0.499 - ETA: 2s - loss: 8.0716 - acc: 0.499 - ETA: 2s - loss: 8.0715 - acc: 0.499 - ETA: 2s - loss: 8.0729 - acc: 0.499 - ETA: 2s - loss: 8.0700 - acc: 0.499 - ETA: 1s - loss: 8.0692 - acc: 0.499 - ETA: 1s - loss: 8.0605 - acc: 0.499 - ETA: 1s - loss: 8.0526 - acc: 0.500 - ETA: 1s - loss: 8.0462 - acc: 0.500 - ETA: 1s - loss: 8.0505 - acc: 0.500 - ETA: 1s - loss: 8.0505 - acc: 0.500 - ETA: 1s - loss: 8.0520 - acc: 0.500 - ETA: 1s - loss: 8.0513 - acc: 0.500 - ETA: 1s - loss: 8.0528 - acc: 0.500 - ETA: 1s - loss: 8.0493 - acc: 0.500 - ETA: 1s - loss: 8.0452 - acc: 0.500 - ETA: 1s - loss: 8.0494 - acc: 0.500 - ETA: 1s - loss: 8.0494 - acc: 0.500 - ETA: 1s - loss: 8.0515 - acc: 0.500 - ETA: 0s - loss: 8.0495 - acc: 0.500 - ETA: 0s - loss: 8.0461 - acc: 0.500 - ETA: 0s - loss: 8.0414 - acc: 0.501 - ETA: 0s - loss: 8.0408 - acc: 0.501 - ETA: 0s - loss: 8.0389 - acc: 0.501 - ETA: 0s - loss: 8.0463 - acc: 0.500 - ETA: 0s - loss: 8.0477 - acc: 0.500 - ETA: 0s - loss: 8.0484 - acc: 0.500 - ETA: 0s - loss: 8.0472 - acc: 0.500 - ETA: 0s - loss: 8.0472 - acc: 0.500 - ETA: 0s - loss: 8.0531 - acc: 0.500 - ETA: 0s - loss: 8.0538 - acc: 0.500 - ETA: 0s - loss: 8.0519 - acc: 0.500 - ETA: 0s - loss: 8.0552 - acc: 0.500 - ETA: 0s - loss: 8.0578 - acc: 0.500 - 18s 706us/step - loss: 8.0590 - acc: 0.5000\n",
      "Epoch 4/5\n"
     ]
    },
    {
     "name": "stdout",
     "output_type": "stream",
     "text": [
      "18816/25000 [=====================>........] - ETA: 17s - loss: 8.5627 - acc: 0.46 - ETA: 17s - loss: 7.9331 - acc: 0.50 - ETA: 17s - loss: 8.0590 - acc: 0.50 - ETA: 17s - loss: 7.8352 - acc: 0.51 - ETA: 17s - loss: 7.7843 - acc: 0.51 - ETA: 18s - loss: 8.0203 - acc: 0.50 - ETA: 19s - loss: 8.3277 - acc: 0.48 - ETA: 19s - loss: 8.3850 - acc: 0.47 - ETA: 19s - loss: 8.3241 - acc: 0.48 - ETA: 19s - loss: 8.2030 - acc: 0.49 - ETA: 19s - loss: 8.4094 - acc: 0.47 - ETA: 19s - loss: 8.3814 - acc: 0.48 - ETA: 19s - loss: 8.3389 - acc: 0.48 - ETA: 19s - loss: 8.3543 - acc: 0.48 - ETA: 19s - loss: 8.2865 - acc: 0.48 - ETA: 19s - loss: 8.2727 - acc: 0.48 - ETA: 20s - loss: 8.3469 - acc: 0.48 - ETA: 20s - loss: 8.3994 - acc: 0.47 - ETA: 20s - loss: 8.3690 - acc: 0.48 - ETA: 20s - loss: 8.3907 - acc: 0.47 - ETA: 20s - loss: 8.3870 - acc: 0.47 - ETA: 19s - loss: 8.3766 - acc: 0.48 - ETA: 19s - loss: 8.3572 - acc: 0.48 - ETA: 19s - loss: 8.3593 - acc: 0.48 - ETA: 18s - loss: 8.2972 - acc: 0.48 - ETA: 18s - loss: 8.1893 - acc: 0.49 - ETA: 18s - loss: 8.1829 - acc: 0.49 - ETA: 18s - loss: 8.1063 - acc: 0.49 - ETA: 18s - loss: 8.1568 - acc: 0.49 - ETA: 17s - loss: 8.1382 - acc: 0.49 - ETA: 17s - loss: 8.1694 - acc: 0.49 - ETA: 17s - loss: 8.1585 - acc: 0.49 - ETA: 17s - loss: 8.1929 - acc: 0.49 - ETA: 17s - loss: 8.2126 - acc: 0.49 - ETA: 17s - loss: 8.1670 - acc: 0.49 - ETA: 17s - loss: 8.1401 - acc: 0.49 - ETA: 17s - loss: 8.1609 - acc: 0.49 - ETA: 17s - loss: 8.1421 - acc: 0.49 - ETA: 17s - loss: 8.1511 - acc: 0.49 - ETA: 17s - loss: 8.1386 - acc: 0.49 - ETA: 17s - loss: 8.1516 - acc: 0.49 - ETA: 16s - loss: 8.1145 - acc: 0.49 - ETA: 16s - loss: 8.1628 - acc: 0.49 - ETA: 16s - loss: 8.1694 - acc: 0.49 - ETA: 16s - loss: 8.1570 - acc: 0.49 - ETA: 16s - loss: 8.1135 - acc: 0.49 - ETA: 16s - loss: 8.0546 - acc: 0.50 - ETA: 16s - loss: 8.0547 - acc: 0.50 - ETA: 16s - loss: 8.0758 - acc: 0.49 - ETA: 16s - loss: 8.0836 - acc: 0.49 - ETA: 16s - loss: 8.0910 - acc: 0.49 - ETA: 15s - loss: 8.0825 - acc: 0.49 - ETA: 15s - loss: 8.1010 - acc: 0.49 - ETA: 15s - loss: 8.1038 - acc: 0.49 - ETA: 15s - loss: 8.1211 - acc: 0.49 - ETA: 15s - loss: 8.1126 - acc: 0.49 - ETA: 15s - loss: 8.1220 - acc: 0.49 - ETA: 15s - loss: 8.1413 - acc: 0.49 - ETA: 15s - loss: 8.1229 - acc: 0.49 - ETA: 15s - loss: 8.1249 - acc: 0.49 - ETA: 14s - loss: 8.1010 - acc: 0.49 - ETA: 14s - loss: 8.1224 - acc: 0.49 - ETA: 14s - loss: 8.1337 - acc: 0.49 - ETA: 14s - loss: 8.1232 - acc: 0.49 - ETA: 14s - loss: 8.1190 - acc: 0.49 - ETA: 14s - loss: 8.1356 - acc: 0.49 - ETA: 14s - loss: 8.1430 - acc: 0.49 - ETA: 14s - loss: 8.1473 - acc: 0.49 - ETA: 14s - loss: 8.1374 - acc: 0.49 - ETA: 14s - loss: 8.1224 - acc: 0.49 - ETA: 13s - loss: 8.1186 - acc: 0.49 - ETA: 13s - loss: 8.1044 - acc: 0.49 - ETA: 13s - loss: 8.0827 - acc: 0.49 - ETA: 13s - loss: 8.0926 - acc: 0.49 - ETA: 13s - loss: 8.0870 - acc: 0.49 - ETA: 13s - loss: 8.0891 - acc: 0.49 - ETA: 13s - loss: 8.0986 - acc: 0.49 - ETA: 13s - loss: 8.1053 - acc: 0.49 - ETA: 13s - loss: 8.0782 - acc: 0.49 - ETA: 13s - loss: 8.0590 - acc: 0.50 - ETA: 13s - loss: 8.0684 - acc: 0.49 - ETA: 13s - loss: 8.0636 - acc: 0.49 - ETA: 12s - loss: 8.0500 - acc: 0.50 - ETA: 12s - loss: 8.0501 - acc: 0.50 - ETA: 12s - loss: 8.0370 - acc: 0.50 - ETA: 12s - loss: 8.0460 - acc: 0.50 - ETA: 12s - loss: 8.0612 - acc: 0.49 - ETA: 12s - loss: 8.0527 - acc: 0.50 - ETA: 12s - loss: 8.0653 - acc: 0.49 - ETA: 12s - loss: 8.0570 - acc: 0.50 - ETA: 12s - loss: 8.0775 - acc: 0.49 - ETA: 12s - loss: 8.0712 - acc: 0.49 - ETA: 12s - loss: 8.0750 - acc: 0.49 - ETA: 12s - loss: 8.0689 - acc: 0.49 - ETA: 12s - loss: 8.0649 - acc: 0.49 - ETA: 11s - loss: 8.0726 - acc: 0.49 - ETA: 11s - loss: 8.0819 - acc: 0.49 - ETA: 11s - loss: 8.0704 - acc: 0.49 - ETA: 11s - loss: 8.0702 - acc: 0.49 - ETA: 11s - loss: 8.0701 - acc: 0.49 - ETA: 11s - loss: 8.0773 - acc: 0.49 - ETA: 11s - loss: 8.0861 - acc: 0.49 - ETA: 11s - loss: 8.0805 - acc: 0.49 - ETA: 11s - loss: 8.0679 - acc: 0.49 - ETA: 11s - loss: 8.0625 - acc: 0.49 - ETA: 11s - loss: 8.0660 - acc: 0.49 - ETA: 11s - loss: 8.0642 - acc: 0.49 - ETA: 11s - loss: 8.0760 - acc: 0.49 - ETA: 10s - loss: 8.0725 - acc: 0.49 - ETA: 10s - loss: 8.0574 - acc: 0.50 - ETA: 10s - loss: 8.0640 - acc: 0.49 - ETA: 10s - loss: 8.0656 - acc: 0.49 - ETA: 10s - loss: 8.0590 - acc: 0.50 - ETA: 10s - loss: 8.0462 - acc: 0.50 - ETA: 10s - loss: 8.0511 - acc: 0.50 - ETA: 10s - loss: 8.0496 - acc: 0.50 - ETA: 10s - loss: 8.0528 - acc: 0.50 - ETA: 10s - loss: 8.0590 - acc: 0.50 - ETA: 10s - loss: 8.0621 - acc: 0.49 - ETA: 10s - loss: 8.0575 - acc: 0.50 - ETA: 10s - loss: 8.0621 - acc: 0.49 - ETA: 10s - loss: 8.0545 - acc: 0.50 - ETA: 10s - loss: 8.0576 - acc: 0.50 - ETA: 10s - loss: 8.0546 - acc: 0.50 - ETA: 10s - loss: 8.0502 - acc: 0.50 - ETA: 9s - loss: 8.0576 - acc: 0.5001 - ETA: 9s - loss: 8.0590 - acc: 0.500 - ETA: 9s - loss: 8.0619 - acc: 0.499 - ETA: 9s - loss: 8.0662 - acc: 0.499 - ETA: 9s - loss: 8.0633 - acc: 0.499 - ETA: 9s - loss: 8.0717 - acc: 0.499 - ETA: 9s - loss: 8.0716 - acc: 0.499 - ETA: 9s - loss: 8.0673 - acc: 0.499 - ETA: 9s - loss: 8.0727 - acc: 0.499 - ETA: 9s - loss: 8.0713 - acc: 0.499 - ETA: 9s - loss: 8.0712 - acc: 0.499 - ETA: 9s - loss: 8.0697 - acc: 0.499 - ETA: 9s - loss: 8.0590 - acc: 0.500 - ETA: 9s - loss: 8.0669 - acc: 0.499 - ETA: 8s - loss: 8.0682 - acc: 0.499 - ETA: 8s - loss: 8.0642 - acc: 0.499 - ETA: 8s - loss: 8.0616 - acc: 0.499 - ETA: 8s - loss: 8.0578 - acc: 0.500 - ETA: 8s - loss: 8.0515 - acc: 0.500 - ETA: 8s - loss: 8.0528 - acc: 0.500 - ETA: 8s - loss: 8.0590 - acc: 0.500 - ETA: 8s - loss: 8.0529 - acc: 0.500 - ETA: 8s - loss: 8.0443 - acc: 0.500 - ETA: 8s - loss: 8.0370 - acc: 0.501 - ETA: 8s - loss: 8.0311 - acc: 0.501 - ETA: 8s - loss: 8.0276 - acc: 0.501 - ETA: 8s - loss: 8.0314 - acc: 0.501 - ETA: 8s - loss: 8.0291 - acc: 0.501 - ETA: 8s - loss: 8.0270 - acc: 0.502 - ETA: 8s - loss: 8.0225 - acc: 0.502 - ETA: 7s - loss: 8.0309 - acc: 0.501 - ETA: 7s - loss: 8.0381 - acc: 0.501 - ETA: 7s - loss: 8.0452 - acc: 0.500 - ETA: 7s - loss: 8.0476 - acc: 0.500 - ETA: 7s - loss: 8.0556 - acc: 0.500 - ETA: 7s - loss: 8.0545 - acc: 0.500 - ETA: 7s - loss: 8.0568 - acc: 0.500 - ETA: 7s - loss: 8.0602 - acc: 0.499 - ETA: 7s - loss: 8.0635 - acc: 0.499 - ETA: 7s - loss: 8.0613 - acc: 0.499 - ETA: 7s - loss: 8.0590 - acc: 0.500 - ETA: 7s - loss: 8.0449 - acc: 0.500 - ETA: 7s - loss: 8.0384 - acc: 0.501 - ETA: 7s - loss: 8.0332 - acc: 0.501 - ETA: 7s - loss: 8.0408 - acc: 0.501 - ETA: 6s - loss: 8.0388 - acc: 0.501 - ETA: 6s - loss: 8.0400 - acc: 0.501 - ETA: 6s - loss: 8.0400 - acc: 0.501 - ETA: 6s - loss: 8.0380 - acc: 0.501 - ETA: 6s - loss: 8.0350 - acc: 0.501 - ETA: 6s - loss: 8.0310 - acc: 0.501 - ETA: 6s - loss: 8.0281 - acc: 0.501 - ETA: 6s - loss: 8.0313 - acc: 0.501 - ETA: 6s - loss: 8.0222 - acc: 0.502 - ETA: 6s - loss: 8.0213 - acc: 0.502 - ETA: 6s - loss: 8.0165 - acc: 0.502 - ETA: 6s - loss: 8.0237 - acc: 0.502 - ETA: 6s - loss: 8.0330 - acc: 0.501 - ETA: 6s - loss: 8.0331 - acc: 0.501 - ETA: 6s - loss: 8.0372 - acc: 0.501 - ETA: 6s - loss: 8.0442 - acc: 0.500 - ETA: 6s - loss: 8.0443 - acc: 0.500 - ETA: 6s - loss: 8.0493 - acc: 0.500 - ETA: 5s - loss: 8.0493 - acc: 0.500 - ETA: 5s - loss: 8.0504 - acc: 0.500 - ETA: 5s - loss: 8.0552 - acc: 0.500 - ETA: 5s - loss: 8.0543 - acc: 0.500 - ETA: 5s - loss: 8.0533 - acc: 0.500 - ETA: 5s - loss: 8.0543 - acc: 0.500 - ETA: 5s - loss: 8.0581 - acc: 0.500 - ETA: 5s - loss: 8.0572 - acc: 0.500 - ETA: 5s - loss: 8.0544 - acc: 0.500 - ETA: 5s - loss: 8.0544 - acc: 0.500 - ETA: 5s - loss: 8.0526 - acc: 0.500 - ETA: 5s - loss: 8.0535 - acc: 0.500 - ETA: 5s - loss: 8.0499 - acc: 0.500 - ETA: 5s - loss: 8.0518 - acc: 0.500 - ETA: 5s - loss: 8.0527 - acc: 0.500 - ETA: 5s - loss: 8.0600 - acc: 0.499 - ETA: 5s - loss: 8.0608 - acc: 0.499 - ETA: 4s - loss: 8.0644 - acc: 0.499 - ETA: 4s - loss: 8.0626 - acc: 0.499 - ETA: 4s - loss: 8.0688 - acc: 0.499 - ETA: 4s - loss: 8.0740 - acc: 0.499 - ETA: 4s - loss: 8.0783 - acc: 0.498 - ETA: 4s - loss: 8.0835 - acc: 0.498 - ETA: 4s - loss: 8.0843 - acc: 0.498 - ETA: 4s - loss: 8.0764 - acc: 0.498 - ETA: 4s - loss: 8.0763 - acc: 0.498 - ETA: 4s - loss: 8.0753 - acc: 0.4990"
     ]
    },
    {
     "name": "stdout",
     "output_type": "stream",
     "text": [
      "25000/25000 [==============================] - ETA: 4s - loss: 8.0812 - acc: 0.498 - ETA: 4s - loss: 8.0811 - acc: 0.498 - ETA: 4s - loss: 8.0810 - acc: 0.498 - ETA: 4s - loss: 8.0793 - acc: 0.498 - ETA: 4s - loss: 8.0758 - acc: 0.499 - ETA: 4s - loss: 8.0708 - acc: 0.499 - ETA: 4s - loss: 8.0699 - acc: 0.499 - ETA: 4s - loss: 8.0723 - acc: 0.499 - ETA: 3s - loss: 8.0698 - acc: 0.499 - ETA: 3s - loss: 8.0673 - acc: 0.499 - ETA: 3s - loss: 8.0746 - acc: 0.499 - ETA: 3s - loss: 8.0721 - acc: 0.499 - ETA: 3s - loss: 8.0769 - acc: 0.498 - ETA: 3s - loss: 8.0777 - acc: 0.498 - ETA: 3s - loss: 8.0728 - acc: 0.499 - ETA: 3s - loss: 8.0735 - acc: 0.499 - ETA: 3s - loss: 8.0727 - acc: 0.499 - ETA: 3s - loss: 8.0734 - acc: 0.499 - ETA: 3s - loss: 8.0734 - acc: 0.499 - ETA: 3s - loss: 8.0733 - acc: 0.499 - ETA: 3s - loss: 8.0773 - acc: 0.498 - ETA: 3s - loss: 8.0685 - acc: 0.499 - ETA: 3s - loss: 8.0622 - acc: 0.499 - ETA: 3s - loss: 8.0622 - acc: 0.499 - ETA: 3s - loss: 8.0590 - acc: 0.500 - ETA: 3s - loss: 8.0544 - acc: 0.500 - ETA: 3s - loss: 8.0536 - acc: 0.500 - ETA: 3s - loss: 8.0560 - acc: 0.500 - ETA: 2s - loss: 8.0606 - acc: 0.499 - ETA: 2s - loss: 8.0583 - acc: 0.500 - ETA: 2s - loss: 8.0575 - acc: 0.500 - ETA: 2s - loss: 8.0575 - acc: 0.500 - ETA: 2s - loss: 8.0568 - acc: 0.500 - ETA: 2s - loss: 8.0606 - acc: 0.499 - ETA: 2s - loss: 8.0613 - acc: 0.499 - ETA: 2s - loss: 8.0606 - acc: 0.499 - ETA: 2s - loss: 8.0621 - acc: 0.499 - ETA: 2s - loss: 8.0621 - acc: 0.499 - ETA: 2s - loss: 8.0613 - acc: 0.499 - ETA: 2s - loss: 8.0665 - acc: 0.499 - ETA: 2s - loss: 8.0695 - acc: 0.499 - ETA: 2s - loss: 8.0694 - acc: 0.499 - ETA: 2s - loss: 8.0709 - acc: 0.499 - ETA: 2s - loss: 8.0753 - acc: 0.499 - ETA: 2s - loss: 8.0737 - acc: 0.499 - ETA: 2s - loss: 8.0708 - acc: 0.499 - ETA: 2s - loss: 8.0700 - acc: 0.499 - ETA: 2s - loss: 8.0700 - acc: 0.499 - ETA: 2s - loss: 8.0641 - acc: 0.499 - ETA: 1s - loss: 8.0598 - acc: 0.500 - ETA: 1s - loss: 8.0590 - acc: 0.500 - ETA: 1s - loss: 8.0547 - acc: 0.500 - ETA: 1s - loss: 8.0512 - acc: 0.500 - ETA: 1s - loss: 8.0483 - acc: 0.500 - ETA: 1s - loss: 8.0477 - acc: 0.500 - ETA: 1s - loss: 8.0470 - acc: 0.500 - ETA: 1s - loss: 8.0456 - acc: 0.500 - ETA: 1s - loss: 8.0442 - acc: 0.500 - ETA: 1s - loss: 8.0485 - acc: 0.500 - ETA: 1s - loss: 8.0471 - acc: 0.500 - ETA: 1s - loss: 8.0451 - acc: 0.500 - ETA: 1s - loss: 8.0451 - acc: 0.500 - ETA: 1s - loss: 8.0458 - acc: 0.500 - ETA: 1s - loss: 8.0438 - acc: 0.500 - ETA: 1s - loss: 8.0425 - acc: 0.501 - ETA: 1s - loss: 8.0439 - acc: 0.500 - ETA: 1s - loss: 8.0426 - acc: 0.501 - ETA: 1s - loss: 8.0433 - acc: 0.501 - ETA: 1s - loss: 8.0467 - acc: 0.500 - ETA: 1s - loss: 8.0447 - acc: 0.500 - ETA: 0s - loss: 8.0468 - acc: 0.500 - ETA: 0s - loss: 8.0482 - acc: 0.500 - ETA: 0s - loss: 8.0476 - acc: 0.500 - ETA: 0s - loss: 8.0516 - acc: 0.500 - ETA: 0s - loss: 8.0510 - acc: 0.500 - ETA: 0s - loss: 8.0497 - acc: 0.500 - ETA: 0s - loss: 8.0524 - acc: 0.500 - ETA: 0s - loss: 8.0557 - acc: 0.500 - ETA: 0s - loss: 8.0617 - acc: 0.499 - ETA: 0s - loss: 8.0637 - acc: 0.499 - ETA: 0s - loss: 8.0630 - acc: 0.499 - ETA: 0s - loss: 8.0624 - acc: 0.499 - ETA: 0s - loss: 8.0650 - acc: 0.499 - ETA: 0s - loss: 8.0650 - acc: 0.499 - ETA: 0s - loss: 8.0630 - acc: 0.499 - ETA: 0s - loss: 8.0682 - acc: 0.499 - ETA: 0s - loss: 8.0656 - acc: 0.499 - ETA: 0s - loss: 8.0655 - acc: 0.499 - ETA: 0s - loss: 8.0649 - acc: 0.499 - ETA: 0s - loss: 8.0636 - acc: 0.499 - ETA: 0s - loss: 8.0597 - acc: 0.500 - 19s 757us/step - loss: 8.0590 - acc: 0.5000\n",
      "Epoch 5/5\n"
     ]
    },
    {
     "name": "stdout",
     "output_type": "stream",
     "text": [
      "17344/25000 [===================>..........] - ETA: 23s - loss: 6.5480 - acc: 0.59 - ETA: 23s - loss: 7.7233 - acc: 0.52 - ETA: 22s - loss: 7.6561 - acc: 0.52 - ETA: 21s - loss: 7.8432 - acc: 0.51 - ETA: 20s - loss: 7.4546 - acc: 0.53 - ETA: 20s - loss: 7.3035 - acc: 0.54 - ETA: 19s - loss: 7.4546 - acc: 0.53 - ETA: 19s - loss: 7.4994 - acc: 0.53 - ETA: 18s - loss: 7.5314 - acc: 0.53 - ETA: 18s - loss: 7.4678 - acc: 0.53 - ETA: 18s - loss: 7.4972 - acc: 0.53 - ETA: 18s - loss: 7.5380 - acc: 0.53 - ETA: 18s - loss: 7.6204 - acc: 0.52 - ETA: 18s - loss: 7.7776 - acc: 0.51 - ETA: 18s - loss: 7.6813 - acc: 0.52 - ETA: 18s - loss: 7.7012 - acc: 0.52 - ETA: 18s - loss: 7.7820 - acc: 0.51 - ETA: 18s - loss: 7.8192 - acc: 0.51 - ETA: 18s - loss: 7.8530 - acc: 0.51 - ETA: 18s - loss: 7.8948 - acc: 0.51 - ETA: 18s - loss: 7.8807 - acc: 0.51 - ETA: 18s - loss: 7.8220 - acc: 0.51 - ETA: 18s - loss: 7.8818 - acc: 0.51 - ETA: 18s - loss: 7.8735 - acc: 0.51 - ETA: 17s - loss: 7.9247 - acc: 0.50 - ETA: 17s - loss: 7.9534 - acc: 0.50 - ETA: 17s - loss: 8.0118 - acc: 0.50 - ETA: 17s - loss: 7.9914 - acc: 0.50 - ETA: 17s - loss: 7.9788 - acc: 0.50 - ETA: 17s - loss: 7.9668 - acc: 0.50 - ETA: 17s - loss: 7.9556 - acc: 0.50 - ETA: 17s - loss: 7.9382 - acc: 0.50 - ETA: 17s - loss: 7.9413 - acc: 0.50 - ETA: 17s - loss: 7.9443 - acc: 0.50 - ETA: 17s - loss: 7.9533 - acc: 0.50 - ETA: 17s - loss: 7.9134 - acc: 0.50 - ETA: 17s - loss: 7.8892 - acc: 0.51 - ETA: 17s - loss: 7.9176 - acc: 0.50 - ETA: 17s - loss: 7.9331 - acc: 0.50 - ETA: 17s - loss: 7.9000 - acc: 0.50 - ETA: 17s - loss: 7.8825 - acc: 0.51 - ETA: 17s - loss: 7.8626 - acc: 0.51 - ETA: 16s - loss: 7.8714 - acc: 0.51 - ETA: 16s - loss: 7.8556 - acc: 0.51 - ETA: 16s - loss: 7.8519 - acc: 0.51 - ETA: 16s - loss: 7.8742 - acc: 0.51 - ETA: 16s - loss: 7.8549 - acc: 0.51 - ETA: 16s - loss: 7.8585 - acc: 0.51 - ETA: 16s - loss: 7.8663 - acc: 0.51 - ETA: 16s - loss: 7.8627 - acc: 0.51 - ETA: 16s - loss: 7.8660 - acc: 0.51 - ETA: 16s - loss: 7.8898 - acc: 0.51 - ETA: 16s - loss: 7.9180 - acc: 0.50 - ETA: 16s - loss: 7.9361 - acc: 0.50 - ETA: 16s - loss: 7.9467 - acc: 0.50 - ETA: 16s - loss: 7.9217 - acc: 0.50 - ETA: 16s - loss: 7.9350 - acc: 0.50 - ETA: 16s - loss: 7.9340 - acc: 0.50 - ETA: 16s - loss: 7.9214 - acc: 0.50 - ETA: 16s - loss: 7.9349 - acc: 0.50 - ETA: 15s - loss: 7.9375 - acc: 0.50 - ETA: 15s - loss: 7.9494 - acc: 0.50 - ETA: 15s - loss: 7.9482 - acc: 0.50 - ETA: 15s - loss: 7.9537 - acc: 0.50 - ETA: 15s - loss: 7.9654 - acc: 0.50 - ETA: 15s - loss: 7.9577 - acc: 0.50 - ETA: 15s - loss: 7.9715 - acc: 0.50 - ETA: 15s - loss: 7.9577 - acc: 0.50 - ETA: 15s - loss: 7.9620 - acc: 0.50 - ETA: 15s - loss: 7.9751 - acc: 0.50 - ETA: 15s - loss: 7.9648 - acc: 0.50 - ETA: 15s - loss: 7.9863 - acc: 0.50 - ETA: 15s - loss: 7.9904 - acc: 0.50 - ETA: 15s - loss: 7.9911 - acc: 0.50 - ETA: 15s - loss: 8.0003 - acc: 0.50 - ETA: 14s - loss: 7.9847 - acc: 0.50 - ETA: 14s - loss: 7.9886 - acc: 0.50 - ETA: 14s - loss: 7.9951 - acc: 0.50 - ETA: 14s - loss: 8.0013 - acc: 0.50 - ETA: 14s - loss: 7.9996 - acc: 0.50 - ETA: 14s - loss: 7.9980 - acc: 0.50 - ETA: 14s - loss: 7.9989 - acc: 0.50 - ETA: 14s - loss: 8.0072 - acc: 0.50 - ETA: 14s - loss: 8.0004 - acc: 0.50 - ETA: 14s - loss: 7.9840 - acc: 0.50 - ETA: 14s - loss: 7.9679 - acc: 0.50 - ETA: 14s - loss: 7.9692 - acc: 0.50 - ETA: 13s - loss: 7.9891 - acc: 0.50 - ETA: 13s - loss: 7.9874 - acc: 0.50 - ETA: 13s - loss: 7.9812 - acc: 0.50 - ETA: 13s - loss: 7.9910 - acc: 0.50 - ETA: 13s - loss: 7.9919 - acc: 0.50 - ETA: 13s - loss: 7.9994 - acc: 0.50 - ETA: 13s - loss: 7.9958 - acc: 0.50 - ETA: 13s - loss: 7.9859 - acc: 0.50 - ETA: 13s - loss: 7.9847 - acc: 0.50 - ETA: 13s - loss: 7.9751 - acc: 0.50 - ETA: 13s - loss: 7.9865 - acc: 0.50 - ETA: 13s - loss: 7.9850 - acc: 0.50 - ETA: 12s - loss: 8.0062 - acc: 0.50 - ETA: 12s - loss: 8.0169 - acc: 0.50 - ETA: 12s - loss: 8.0075 - acc: 0.50 - ETA: 12s - loss: 8.0003 - acc: 0.50 - ETA: 12s - loss: 7.9990 - acc: 0.50 - ETA: 12s - loss: 7.9978 - acc: 0.50 - ETA: 12s - loss: 7.9909 - acc: 0.50 - ETA: 12s - loss: 7.9973 - acc: 0.50 - ETA: 12s - loss: 7.9998 - acc: 0.50 - ETA: 12s - loss: 7.9965 - acc: 0.50 - ETA: 12s - loss: 8.0027 - acc: 0.50 - ETA: 12s - loss: 7.9977 - acc: 0.50 - ETA: 12s - loss: 8.0019 - acc: 0.50 - ETA: 11s - loss: 8.0078 - acc: 0.50 - ETA: 11s - loss: 8.0293 - acc: 0.50 - ETA: 11s - loss: 8.0365 - acc: 0.50 - ETA: 11s - loss: 8.0333 - acc: 0.50 - ETA: 11s - loss: 8.0335 - acc: 0.50 - ETA: 11s - loss: 8.0371 - acc: 0.50 - ETA: 11s - loss: 8.0390 - acc: 0.50 - ETA: 11s - loss: 8.0458 - acc: 0.50 - ETA: 11s - loss: 8.0361 - acc: 0.50 - ETA: 11s - loss: 8.0396 - acc: 0.50 - ETA: 11s - loss: 8.0381 - acc: 0.50 - ETA: 11s - loss: 8.0431 - acc: 0.50 - ETA: 11s - loss: 8.0463 - acc: 0.50 - ETA: 11s - loss: 8.0354 - acc: 0.50 - ETA: 11s - loss: 8.0309 - acc: 0.50 - ETA: 11s - loss: 8.0357 - acc: 0.50 - ETA: 10s - loss: 8.0298 - acc: 0.50 - ETA: 10s - loss: 8.0269 - acc: 0.50 - ETA: 10s - loss: 8.0225 - acc: 0.50 - ETA: 10s - loss: 8.0244 - acc: 0.50 - ETA: 10s - loss: 8.0247 - acc: 0.50 - ETA: 10s - loss: 8.0294 - acc: 0.50 - ETA: 10s - loss: 8.0253 - acc: 0.50 - ETA: 10s - loss: 8.0284 - acc: 0.50 - ETA: 10s - loss: 8.0257 - acc: 0.50 - ETA: 10s - loss: 8.0259 - acc: 0.50 - ETA: 10s - loss: 8.0303 - acc: 0.50 - ETA: 10s - loss: 8.0277 - acc: 0.50 - ETA: 10s - loss: 8.0363 - acc: 0.50 - ETA: 10s - loss: 8.0337 - acc: 0.50 - ETA: 10s - loss: 8.0366 - acc: 0.50 - ETA: 10s - loss: 8.0339 - acc: 0.50 - ETA: 10s - loss: 8.0299 - acc: 0.50 - ETA: 10s - loss: 8.0356 - acc: 0.50 - ETA: 10s - loss: 8.0275 - acc: 0.50 - ETA: 10s - loss: 8.0264 - acc: 0.50 - ETA: 9s - loss: 8.0239 - acc: 0.5022 - ETA: 9s - loss: 8.0269 - acc: 0.502 - ETA: 9s - loss: 8.0192 - acc: 0.502 - ETA: 9s - loss: 8.0103 - acc: 0.503 - ETA: 9s - loss: 8.0067 - acc: 0.503 - ETA: 9s - loss: 8.0214 - acc: 0.502 - ETA: 9s - loss: 8.0256 - acc: 0.502 - ETA: 9s - loss: 8.0309 - acc: 0.501 - ETA: 9s - loss: 8.0324 - acc: 0.501 - ETA: 9s - loss: 8.0351 - acc: 0.501 - ETA: 9s - loss: 8.0378 - acc: 0.501 - ETA: 9s - loss: 8.0404 - acc: 0.501 - ETA: 9s - loss: 8.0393 - acc: 0.501 - ETA: 8s - loss: 8.0419 - acc: 0.501 - ETA: 8s - loss: 8.0383 - acc: 0.501 - ETA: 8s - loss: 8.0396 - acc: 0.501 - ETA: 8s - loss: 8.0469 - acc: 0.500 - ETA: 8s - loss: 8.0482 - acc: 0.500 - ETA: 8s - loss: 8.0519 - acc: 0.500 - ETA: 8s - loss: 8.0519 - acc: 0.500 - ETA: 8s - loss: 8.0590 - acc: 0.500 - ETA: 8s - loss: 8.0614 - acc: 0.499 - ETA: 8s - loss: 8.0497 - acc: 0.500 - ETA: 8s - loss: 8.0602 - acc: 0.499 - ETA: 8s - loss: 8.0533 - acc: 0.500 - ETA: 8s - loss: 8.0510 - acc: 0.500 - ETA: 8s - loss: 8.0487 - acc: 0.500 - ETA: 8s - loss: 8.0545 - acc: 0.500 - ETA: 8s - loss: 8.0420 - acc: 0.501 - ETA: 8s - loss: 8.0432 - acc: 0.501 - ETA: 8s - loss: 8.0366 - acc: 0.501 - ETA: 8s - loss: 8.0367 - acc: 0.501 - ETA: 7s - loss: 8.0247 - acc: 0.502 - ETA: 7s - loss: 8.0160 - acc: 0.502 - ETA: 7s - loss: 8.0195 - acc: 0.502 - ETA: 7s - loss: 8.0197 - acc: 0.502 - ETA: 7s - loss: 8.0221 - acc: 0.502 - ETA: 7s - loss: 8.0245 - acc: 0.502 - ETA: 7s - loss: 8.0301 - acc: 0.501 - ETA: 7s - loss: 8.0292 - acc: 0.501 - ETA: 7s - loss: 8.0337 - acc: 0.501 - ETA: 7s - loss: 8.0338 - acc: 0.501 - ETA: 7s - loss: 8.0392 - acc: 0.501 - ETA: 7s - loss: 8.0289 - acc: 0.501 - ETA: 7s - loss: 8.0291 - acc: 0.501 - ETA: 7s - loss: 8.0303 - acc: 0.501 - ETA: 6s - loss: 8.0274 - acc: 0.502 - ETA: 6s - loss: 8.0336 - acc: 0.501 - ETA: 6s - loss: 8.0327 - acc: 0.501 - ETA: 6s - loss: 8.0288 - acc: 0.501 - ETA: 6s - loss: 8.0329 - acc: 0.501 - ETA: 6s - loss: 8.0380 - acc: 0.501 - ETA: 6s - loss: 8.0371 - acc: 0.501 - ETA: 6s - loss: 8.0422 - acc: 0.501 - ETA: 6s - loss: 8.0482 - acc: 0.500 - ETA: 6s - loss: 8.0493 - acc: 0.500 - ETA: 6s - loss: 8.0522 - acc: 0.500 - ETA: 6s - loss: 8.0523 - acc: 0.500 - ETA: 6s - loss: 8.0552 - acc: 0.500 - ETA: 6s - loss: 8.0581 - acc: 0.500 - ETA: 6s - loss: 8.0581 - acc: 0.500 - ETA: 6s - loss: 8.0590 - acc: 0.500 - ETA: 6s - loss: 8.0600 - acc: 0.499 - ETA: 6s - loss: 8.0619 - acc: 0.499 - ETA: 5s - loss: 8.0506 - acc: 0.500 - ETA: 5s - loss: 8.0525 - acc: 0.500 - ETA: 5s - loss: 8.0572 - acc: 0.500125000/25000 [==============================] - ETA: 5s - loss: 8.0544 - acc: 0.500 - ETA: 5s - loss: 8.0554 - acc: 0.500 - ETA: 5s - loss: 8.0563 - acc: 0.500 - ETA: 5s - loss: 8.0654 - acc: 0.499 - ETA: 5s - loss: 8.0590 - acc: 0.500 - ETA: 5s - loss: 8.0563 - acc: 0.500 - ETA: 5s - loss: 8.0573 - acc: 0.500 - ETA: 5s - loss: 8.0582 - acc: 0.500 - ETA: 5s - loss: 8.0546 - acc: 0.500 - ETA: 5s - loss: 8.0529 - acc: 0.500 - ETA: 5s - loss: 8.0459 - acc: 0.500 - ETA: 4s - loss: 8.0477 - acc: 0.500 - ETA: 4s - loss: 8.0530 - acc: 0.500 - ETA: 4s - loss: 8.0513 - acc: 0.500 - ETA: 4s - loss: 8.0504 - acc: 0.500 - ETA: 4s - loss: 8.0479 - acc: 0.500 - ETA: 4s - loss: 8.0445 - acc: 0.500 - ETA: 4s - loss: 8.0446 - acc: 0.500 - ETA: 4s - loss: 8.0438 - acc: 0.500 - ETA: 4s - loss: 8.0430 - acc: 0.501 - ETA: 4s - loss: 8.0413 - acc: 0.501 - ETA: 4s - loss: 8.0431 - acc: 0.501 - ETA: 4s - loss: 8.0431 - acc: 0.501 - ETA: 4s - loss: 8.0349 - acc: 0.501 - ETA: 4s - loss: 8.0317 - acc: 0.501 - ETA: 4s - loss: 8.0293 - acc: 0.501 - ETA: 4s - loss: 8.0213 - acc: 0.502 - ETA: 4s - loss: 8.0156 - acc: 0.502 - ETA: 3s - loss: 8.0142 - acc: 0.502 - ETA: 3s - loss: 8.0184 - acc: 0.502 - ETA: 3s - loss: 8.0169 - acc: 0.502 - ETA: 3s - loss: 8.0163 - acc: 0.502 - ETA: 3s - loss: 8.0196 - acc: 0.502 - ETA: 3s - loss: 8.0214 - acc: 0.502 - ETA: 3s - loss: 8.0239 - acc: 0.502 - ETA: 3s - loss: 8.0224 - acc: 0.502 - ETA: 3s - loss: 8.0266 - acc: 0.502 - ETA: 3s - loss: 8.0283 - acc: 0.501 - ETA: 3s - loss: 8.0268 - acc: 0.502 - ETA: 3s - loss: 8.0332 - acc: 0.501 - ETA: 3s - loss: 8.0333 - acc: 0.501 - ETA: 3s - loss: 8.0350 - acc: 0.501 - ETA: 3s - loss: 8.0381 - acc: 0.501 - ETA: 3s - loss: 8.0351 - acc: 0.501 - ETA: 3s - loss: 8.0275 - acc: 0.502 - ETA: 3s - loss: 8.0245 - acc: 0.502 - ETA: 3s - loss: 8.0246 - acc: 0.502 - ETA: 2s - loss: 8.0209 - acc: 0.502 - ETA: 2s - loss: 8.0211 - acc: 0.502 - ETA: 2s - loss: 8.0175 - acc: 0.502 - ETA: 2s - loss: 8.0191 - acc: 0.502 - ETA: 2s - loss: 8.0223 - acc: 0.502 - ETA: 2s - loss: 8.0254 - acc: 0.502 - ETA: 2s - loss: 8.0307 - acc: 0.501 - ETA: 2s - loss: 8.0286 - acc: 0.501 - ETA: 2s - loss: 8.0272 - acc: 0.502 - ETA: 2s - loss: 8.0266 - acc: 0.502 - ETA: 2s - loss: 8.0303 - acc: 0.501 - ETA: 2s - loss: 8.0311 - acc: 0.501 - ETA: 2s - loss: 8.0283 - acc: 0.501 - ETA: 2s - loss: 8.0314 - acc: 0.501 - ETA: 2s - loss: 8.0278 - acc: 0.501 - ETA: 2s - loss: 8.0273 - acc: 0.502 - ETA: 2s - loss: 8.0281 - acc: 0.501 - ETA: 1s - loss: 8.0310 - acc: 0.501 - ETA: 1s - loss: 8.0311 - acc: 0.501 - ETA: 1s - loss: 8.0283 - acc: 0.501 - ETA: 1s - loss: 8.0320 - acc: 0.501 - ETA: 1s - loss: 8.0292 - acc: 0.501 - ETA: 1s - loss: 8.0265 - acc: 0.502 - ETA: 1s - loss: 8.0294 - acc: 0.501 - ETA: 1s - loss: 8.0372 - acc: 0.501 - ETA: 1s - loss: 8.0366 - acc: 0.501 - ETA: 1s - loss: 8.0401 - acc: 0.501 - ETA: 1s - loss: 8.0374 - acc: 0.501 - ETA: 1s - loss: 8.0381 - acc: 0.501 - ETA: 1s - loss: 8.0396 - acc: 0.501 - ETA: 1s - loss: 8.0410 - acc: 0.501 - ETA: 1s - loss: 8.0432 - acc: 0.501 - ETA: 1s - loss: 8.0446 - acc: 0.500 - ETA: 1s - loss: 8.0446 - acc: 0.500 - ETA: 1s - loss: 8.0488 - acc: 0.500 - ETA: 1s - loss: 8.0508 - acc: 0.500 - ETA: 1s - loss: 8.0522 - acc: 0.500 - ETA: 0s - loss: 8.0509 - acc: 0.500 - ETA: 0s - loss: 8.0509 - acc: 0.500 - ETA: 0s - loss: 8.0462 - acc: 0.500 - ETA: 0s - loss: 8.0436 - acc: 0.501 - ETA: 0s - loss: 8.0517 - acc: 0.500 - ETA: 0s - loss: 8.0564 - acc: 0.500 - ETA: 0s - loss: 8.0571 - acc: 0.500 - ETA: 0s - loss: 8.0597 - acc: 0.500 - ETA: 0s - loss: 8.0604 - acc: 0.499 - ETA: 0s - loss: 8.0610 - acc: 0.499 - ETA: 0s - loss: 8.0682 - acc: 0.499 - ETA: 0s - loss: 8.0662 - acc: 0.499 - ETA: 0s - loss: 8.0701 - acc: 0.499 - ETA: 0s - loss: 8.0649 - acc: 0.499 - ETA: 0s - loss: 8.0616 - acc: 0.499 - 19s 773us/step - loss: 8.0590 - acc: 0.5000\n"
     ]
    },
    {
     "data": {
      "text/plain": [
       "<tensorflow.python.keras.callbacks.History at 0x1c8cf9e1780>"
      ]
     },
     "execution_count": 19,
     "metadata": {},
     "output_type": "execute_result"
    }
   ],
   "source": [
    "model.fit(X,Y,epochs=5)"
   ]
  },
  {
   "cell_type": "code",
   "execution_count": 69,
   "metadata": {},
   "outputs": [
    {
     "data": {
      "text/plain": [
       "1295"
      ]
     },
     "execution_count": 69,
     "metadata": {},
     "output_type": "execute_result"
    }
   ],
   "source": [
    "nm.shape(testing)\n",
    "testin =nm.array(testing).reshape(12500,2500)\n",
    "nm.shape(testin)\n",
    "ped=model.predict((testin))"
   ]
  },
  {
   "cell_type": "code",
   "execution_count": 80,
   "metadata": {},
   "outputs": [
    {
     "data": {
      "image/png": "[encoded data removed]",
      "text/plain": [
       "<Figure size 432x288 with 1 Axes>"
      ]
     },
     "metadata": {},
     "output_type": "display_data"
    }
   ],
   "source": [
    "import matplotlib.pyplot as py\n",
    "import numpy as nm\n",
    "d=nm.array(testing[20])\n",
    "d.shape=(50,50)\n",
    "py.imshow(d)\n",
    "py.show()"
   ]
  },
  {
   "cell_type": "code",
   "execution_count": 1,
   "metadata": {},
   "outputs": [
    {
     "ename": "NameError",
     "evalue": "name 'ped' is not defined",
     "output_type": "error",
     "traceback": [
      "\u001b[1;31m---------------------------------------------------------------------------\u001b[0m",
      "\u001b[1;31mNameError\u001b[0m                                 Traceback (most recent call last)",
      "\u001b[1;32m<ipython-input-1-cca9d3b2a26b>\u001b[0m in \u001b[0;36m<module>\u001b[1;34m()\u001b[0m\n\u001b[1;32m----> 1\u001b[1;33m \u001b[0mped\u001b[0m\u001b[1;33m[\u001b[0m\u001b[1;36m0\u001b[0m\u001b[1;33m]\u001b[0m\u001b[1;33m\u001b[0m\u001b[1;33m\u001b[0m\u001b[0m\n\u001b[0m",
      "\u001b[1;31mNameError\u001b[0m: name 'ped' is not defined"
     ]
    }
   ],
   "source": []
  },
  {
   "cell_type": "code",
   "execution_count": null,
   "metadata": {
    "collapsed": true
   },
   "outputs": [],
   "source": []
  }
 ],
 "metadata": {
  "kernelspec": {
   "display_name": "Python 3",
   "language": "python",
   "name": "python3"
  },
  "language_info": {
   "codemirror_mode": {
    "name": "ipython",
    "version": 3
   },
   "file_extension": ".py",
   "mimetype": "text/x-python",
   "name": "python",
   "nbconvert_exporter": "python",
   "pygments_lexer": "ipython3",
   "version": "3.6.8"
  }
 },
 "nbformat": 4,
 "nbformat_minor": 2
}
